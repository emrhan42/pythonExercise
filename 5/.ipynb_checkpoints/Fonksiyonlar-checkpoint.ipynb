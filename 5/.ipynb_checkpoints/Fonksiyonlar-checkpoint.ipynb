{
 "cells": [
  {
   "cell_type": "markdown",
   "id": "f5481206-41d4-45e2-bf9c-ebadc3faec91",
   "metadata": {},
   "source": [
    "## Fonksiyonlar I"
   ]
  },
  {
   "cell_type": "markdown",
   "id": "8d8d11f9-ea8b-4be7-98d1-aa3b847e32f8",
   "metadata": {
    "tags": []
   },
   "source": [
    "### Fonksiyon,Fonksiyon,Fonksiyon"
   ]
  },
  {
   "cell_type": "markdown",
   "id": "0a4993c5-19f5-4830-9f7b-e1522ac0366f",
   "metadata": {
    "tags": []
   },
   "source": [
    "**Fonsiyon:** Belirli bir işlemi yerine getirmek için yazılmış özel kod parçasıdır"
   ]
  },
  {
   "cell_type": "markdown",
   "id": "749ada9f-2506-4592-bd71-ca478fb46c1d",
   "metadata": {},
   "source": [
    "Fonksiyon,çağrıldığı zaman çalışır"
   ]
  },
  {
   "cell_type": "markdown",
   "id": "715c2718-2698-4af2-ae3a-4a8f2e131912",
   "metadata": {},
   "source": [
    "Fonksiyonlar isteğe göre paramatre (Girdi) alabilirler"
   ]
  },
  {
   "cell_type": "markdown",
   "id": "1d85b655-baa8-4e63-a7a2-28cd1026edfe",
   "metadata": {},
   "source": [
    "Fonksiyonlar isteğe göre, geriye bir değer dönebilirler"
   ]
  },
  {
   "cell_type": "markdown",
   "id": "db7be3f5-3bba-4715-8283-84466afbbcb0",
   "metadata": {},
   "source": [
    "Fonksiyon Çağırma:\n",
    "\n",
    "**foksiyon_adi()**"
   ]
  },
  {
   "cell_type": "markdown",
   "id": "6ba595f2-fbdf-4106-8bee-6d7e8838a3fe",
   "metadata": {},
   "source": [
    "Parametre ile Fonksiyon çağırma:\n",
    "\n",
    "**fonksiyon_adi(parametre_1,parametre_2,...)**"
   ]
  },
  {
   "cell_type": "markdown",
   "id": "48c2188f-9f8c-4f45-a4c1-5b57140cc67d",
   "metadata": {},
   "source": [
    "Fonksiyonlar kod tekrarını önler."
   ]
  },
  {
   "cell_type": "code",
   "execution_count": 3,
   "id": "bac00e77-428f-42e3-afe4-9c2eb5796876",
   "metadata": {
    "tags": []
   },
   "outputs": [
    {
     "data": {
      "text/plain": [
       "int"
      ]
     },
     "execution_count": 3,
     "metadata": {},
     "output_type": "execute_result"
    }
   ],
   "source": [
    "# type()\n",
    "\n",
    "type(42)"
   ]
  },
  {
   "cell_type": "code",
   "execution_count": 4,
   "id": "6a2406bf-f87f-46aa-ad3a-58d83dc84b92",
   "metadata": {
    "tags": []
   },
   "outputs": [
    {
     "data": {
      "text/plain": [
       "str"
      ]
     },
     "execution_count": 4,
     "metadata": {},
     "output_type": "execute_result"
    }
   ],
   "source": [
    "type(\"güzel bir metin\")"
   ]
  },
  {
   "cell_type": "code",
   "execution_count": 5,
   "id": "fc8d9ccb-da01-4e4c-a52f-58dc47ec9f65",
   "metadata": {
    "tags": []
   },
   "outputs": [
    {
     "data": {
      "text/plain": [
       "str"
      ]
     },
     "execution_count": 5,
     "metadata": {},
     "output_type": "execute_result"
    }
   ],
   "source": [
    "type(\"AI\")"
   ]
  },
  {
   "cell_type": "code",
   "execution_count": 6,
   "id": "d04c15f5-4b7a-4c5b-b9c5-97d1bf0cbe81",
   "metadata": {
    "tags": []
   },
   "outputs": [
    {
     "data": {
      "text/plain": [
       "5"
      ]
     },
     "execution_count": 6,
     "metadata": {},
     "output_type": "execute_result"
    }
   ],
   "source": [
    "int(5.68)"
   ]
  },
  {
   "cell_type": "code",
   "execution_count": 7,
   "id": "b8f315d7-4239-4729-9591-12d87d8e4182",
   "metadata": {
    "tags": []
   },
   "outputs": [
    {
     "ename": "ValueError",
     "evalue": "invalid literal for int() with base 10: 'değer'",
     "output_type": "error",
     "traceback": [
      "\u001b[1;31m---------------------------------------------------------------------------\u001b[0m",
      "\u001b[1;31mValueError\u001b[0m                                Traceback (most recent call last)",
      "Cell \u001b[1;32mIn[7], line 1\u001b[0m\n\u001b[1;32m----> 1\u001b[0m \u001b[38;5;28mint\u001b[39m(\u001b[38;5;124m\"\u001b[39m\u001b[38;5;124mdeğer\u001b[39m\u001b[38;5;124m\"\u001b[39m)\n",
      "\u001b[1;31mValueError\u001b[0m: invalid literal for int() with base 10: 'değer'"
     ]
    }
   ],
   "source": [
    "int(\"değer\")"
   ]
  },
  {
   "cell_type": "code",
   "execution_count": 8,
   "id": "6573e39e-3f9e-4e55-9aae-be28ee4e18ec",
   "metadata": {
    "tags": []
   },
   "outputs": [
    {
     "data": {
      "text/plain": [
       "82"
      ]
     },
     "execution_count": 8,
     "metadata": {},
     "output_type": "execute_result"
    }
   ],
   "source": [
    "int(\"82\")"
   ]
  },
  {
   "cell_type": "code",
   "execution_count": 9,
   "id": "6aebabcc-7baf-43a2-aa2a-303d76adf0bb",
   "metadata": {
    "tags": []
   },
   "outputs": [
    {
     "data": {
      "text/plain": [
       "'45'"
      ]
     },
     "execution_count": 9,
     "metadata": {},
     "output_type": "execute_result"
    }
   ],
   "source": [
    "str(45)"
   ]
  },
  {
   "cell_type": "code",
   "execution_count": 10,
   "id": "7c2e333d-d8b5-47fd-9ee7-72687de0af5d",
   "metadata": {
    "tags": []
   },
   "outputs": [
    {
     "data": {
      "text/plain": [
       "'4.57'"
      ]
     },
     "execution_count": 10,
     "metadata": {},
     "output_type": "execute_result"
    }
   ],
   "source": [
    "str(4.57)"
   ]
  },
  {
   "cell_type": "code",
   "execution_count": 12,
   "id": "3a239b64-da8d-47ab-92b1-c94178c1e710",
   "metadata": {
    "tags": []
   },
   "outputs": [
    {
     "data": {
      "text/plain": [
       "'Ankara'"
      ]
     },
     "execution_count": 12,
     "metadata": {},
     "output_type": "execute_result"
    }
   ],
   "source": [
    "str(\"Ankara\")"
   ]
  },
  {
   "cell_type": "code",
   "execution_count": 13,
   "id": "4aca03db-86e7-4628-b5dd-c33350549848",
   "metadata": {
    "tags": []
   },
   "outputs": [
    {
     "data": {
      "text/plain": [
       "12.0"
      ]
     },
     "execution_count": 13,
     "metadata": {},
     "output_type": "execute_result"
    }
   ],
   "source": [
    "float(12)"
   ]
  },
  {
   "cell_type": "code",
   "execution_count": 14,
   "id": "0e58fe11-b4e1-42ee-9635-9bfc0572691d",
   "metadata": {
    "tags": []
   },
   "outputs": [
    {
     "data": {
      "text/plain": [
       "4.0"
      ]
     },
     "execution_count": 14,
     "metadata": {},
     "output_type": "execute_result"
    }
   ],
   "source": [
    "float(\"4\")"
   ]
  },
  {
   "cell_type": "code",
   "execution_count": 15,
   "id": "e5b447b7-adc8-499e-a7ab-bb4f3f31c117",
   "metadata": {
    "tags": []
   },
   "outputs": [
    {
     "data": {
      "text/plain": [
       "82.0"
      ]
     },
     "execution_count": 15,
     "metadata": {},
     "output_type": "execute_result"
    }
   ],
   "source": [
    "sayi = \"82\"\n",
    "float(sayi)"
   ]
  },
  {
   "cell_type": "code",
   "execution_count": 16,
   "id": "59515519-c4da-4cb7-a1a2-9b6453221d29",
   "metadata": {
    "tags": []
   },
   "outputs": [
    {
     "data": {
      "text/plain": [
       "-18.0"
      ]
     },
     "execution_count": 16,
     "metadata": {},
     "output_type": "execute_result"
    }
   ],
   "source": [
    "float(\"-18\")"
   ]
  },
  {
   "cell_type": "markdown",
   "id": "3222d8db-8e67-46f4-ad2e-1353e383e5aa",
   "metadata": {},
   "source": [
    "### Matamatik Fonksiyonlar (Math)"
   ]
  },
  {
   "cell_type": "markdown",
   "id": "cd3e9856-9273-49ed-8c4a-e8e73048ebae",
   "metadata": {},
   "source": [
    "Matamatiksel işlemler yapmak için Python'da **math** modülü kullanılır"
   ]
  },
  {
   "cell_type": "markdown",
   "id": "cade5d99-a210-4e5b-97f4-2066ded33dbc",
   "metadata": {},
   "source": [
    "**Modül:** birbiriyle ilgili foksiyonları ve dosyaları bir arada tutan dosya kümeleridir"
   ]
  },
  {
   "cell_type": "code",
   "execution_count": 17,
   "id": "a788e993-7539-4d1f-a49b-bdc87fd43717",
   "metadata": {
    "tags": []
   },
   "outputs": [],
   "source": [
    "# Math modülü içeri nasıl alınır\n",
    "\n",
    "import math"
   ]
  },
  {
   "cell_type": "code",
   "execution_count": 18,
   "id": "cef2af22-406b-41c7-8dcd-c3802b08f778",
   "metadata": {
    "tags": []
   },
   "outputs": [
    {
     "name": "stdout",
     "output_type": "stream",
     "text": [
      "<module 'math' (built-in)>\n"
     ]
    }
   ],
   "source": [
    "# Math modülünü görelim\n",
    "print(math)"
   ]
  },
  {
   "cell_type": "code",
   "execution_count": 19,
   "id": "04bb4743-8484-42d5-ab59-a0116f1145c8",
   "metadata": {
    "collapsed": true,
    "jupyter": {
     "outputs_hidden": true
    },
    "tags": []
   },
   "outputs": [
    {
     "name": "stdout",
     "output_type": "stream",
     "text": [
      "Help on built-in module math:\n",
      "\n",
      "NAME\n",
      "    math\n",
      "\n",
      "DESCRIPTION\n",
      "    This module provides access to the mathematical functions\n",
      "    defined by the C standard.\n",
      "\n",
      "FUNCTIONS\n",
      "    acos(x, /)\n",
      "        Return the arc cosine (measured in radians) of x.\n",
      "        \n",
      "        The result is between 0 and pi.\n",
      "    \n",
      "    acosh(x, /)\n",
      "        Return the inverse hyperbolic cosine of x.\n",
      "    \n",
      "    asin(x, /)\n",
      "        Return the arc sine (measured in radians) of x.\n",
      "        \n",
      "        The result is between -pi/2 and pi/2.\n",
      "    \n",
      "    asinh(x, /)\n",
      "        Return the inverse hyperbolic sine of x.\n",
      "    \n",
      "    atan(x, /)\n",
      "        Return the arc tangent (measured in radians) of x.\n",
      "        \n",
      "        The result is between -pi/2 and pi/2.\n",
      "    \n",
      "    atan2(y, x, /)\n",
      "        Return the arc tangent (measured in radians) of y/x.\n",
      "        \n",
      "        Unlike atan(y/x), the signs of both x and y are considered.\n",
      "    \n",
      "    atanh(x, /)\n",
      "        Return the inverse hyperbolic tangent of x.\n",
      "    \n",
      "    cbrt(x, /)\n",
      "        Return the cube root of x.\n",
      "    \n",
      "    ceil(x, /)\n",
      "        Return the ceiling of x as an Integral.\n",
      "        \n",
      "        This is the smallest integer >= x.\n",
      "    \n",
      "    comb(n, k, /)\n",
      "        Number of ways to choose k items from n items without repetition and without order.\n",
      "        \n",
      "        Evaluates to n! / (k! * (n - k)!) when k <= n and evaluates\n",
      "        to zero when k > n.\n",
      "        \n",
      "        Also called the binomial coefficient because it is equivalent\n",
      "        to the coefficient of k-th term in polynomial expansion of the\n",
      "        expression (1 + x)**n.\n",
      "        \n",
      "        Raises TypeError if either of the arguments are not integers.\n",
      "        Raises ValueError if either of the arguments are negative.\n",
      "    \n",
      "    copysign(x, y, /)\n",
      "        Return a float with the magnitude (absolute value) of x but the sign of y.\n",
      "        \n",
      "        On platforms that support signed zeros, copysign(1.0, -0.0)\n",
      "        returns -1.0.\n",
      "    \n",
      "    cos(x, /)\n",
      "        Return the cosine of x (measured in radians).\n",
      "    \n",
      "    cosh(x, /)\n",
      "        Return the hyperbolic cosine of x.\n",
      "    \n",
      "    degrees(x, /)\n",
      "        Convert angle x from radians to degrees.\n",
      "    \n",
      "    dist(p, q, /)\n",
      "        Return the Euclidean distance between two points p and q.\n",
      "        \n",
      "        The points should be specified as sequences (or iterables) of\n",
      "        coordinates.  Both inputs must have the same dimension.\n",
      "        \n",
      "        Roughly equivalent to:\n",
      "            sqrt(sum((px - qx) ** 2.0 for px, qx in zip(p, q)))\n",
      "    \n",
      "    erf(x, /)\n",
      "        Error function at x.\n",
      "    \n",
      "    erfc(x, /)\n",
      "        Complementary error function at x.\n",
      "    \n",
      "    exp(x, /)\n",
      "        Return e raised to the power of x.\n",
      "    \n",
      "    exp2(x, /)\n",
      "        Return 2 raised to the power of x.\n",
      "    \n",
      "    expm1(x, /)\n",
      "        Return exp(x)-1.\n",
      "        \n",
      "        This function avoids the loss of precision involved in the direct evaluation of exp(x)-1 for small x.\n",
      "    \n",
      "    fabs(x, /)\n",
      "        Return the absolute value of the float x.\n",
      "    \n",
      "    factorial(n, /)\n",
      "        Find n!.\n",
      "        \n",
      "        Raise a ValueError if x is negative or non-integral.\n",
      "    \n",
      "    floor(x, /)\n",
      "        Return the floor of x as an Integral.\n",
      "        \n",
      "        This is the largest integer <= x.\n",
      "    \n",
      "    fmod(x, y, /)\n",
      "        Return fmod(x, y), according to platform C.\n",
      "        \n",
      "        x % y may differ.\n",
      "    \n",
      "    frexp(x, /)\n",
      "        Return the mantissa and exponent of x, as pair (m, e).\n",
      "        \n",
      "        m is a float and e is an int, such that x = m * 2.**e.\n",
      "        If x is 0, m and e are both 0.  Else 0.5 <= abs(m) < 1.0.\n",
      "    \n",
      "    fsum(seq, /)\n",
      "        Return an accurate floating point sum of values in the iterable seq.\n",
      "        \n",
      "        Assumes IEEE-754 floating point arithmetic.\n",
      "    \n",
      "    gamma(x, /)\n",
      "        Gamma function at x.\n",
      "    \n",
      "    gcd(*integers)\n",
      "        Greatest Common Divisor.\n",
      "    \n",
      "    hypot(...)\n",
      "        hypot(*coordinates) -> value\n",
      "        \n",
      "        Multidimensional Euclidean distance from the origin to a point.\n",
      "        \n",
      "        Roughly equivalent to:\n",
      "            sqrt(sum(x**2 for x in coordinates))\n",
      "        \n",
      "        For a two dimensional point (x, y), gives the hypotenuse\n",
      "        using the Pythagorean theorem:  sqrt(x*x + y*y).\n",
      "        \n",
      "        For example, the hypotenuse of a 3/4/5 right triangle is:\n",
      "        \n",
      "            >>> hypot(3.0, 4.0)\n",
      "            5.0\n",
      "    \n",
      "    isclose(a, b, *, rel_tol=1e-09, abs_tol=0.0)\n",
      "        Determine whether two floating point numbers are close in value.\n",
      "        \n",
      "          rel_tol\n",
      "            maximum difference for being considered \"close\", relative to the\n",
      "            magnitude of the input values\n",
      "          abs_tol\n",
      "            maximum difference for being considered \"close\", regardless of the\n",
      "            magnitude of the input values\n",
      "        \n",
      "        Return True if a is close in value to b, and False otherwise.\n",
      "        \n",
      "        For the values to be considered close, the difference between them\n",
      "        must be smaller than at least one of the tolerances.\n",
      "        \n",
      "        -inf, inf and NaN behave similarly to the IEEE 754 Standard.  That\n",
      "        is, NaN is not close to anything, even itself.  inf and -inf are\n",
      "        only close to themselves.\n",
      "    \n",
      "    isfinite(x, /)\n",
      "        Return True if x is neither an infinity nor a NaN, and False otherwise.\n",
      "    \n",
      "    isinf(x, /)\n",
      "        Return True if x is a positive or negative infinity, and False otherwise.\n",
      "    \n",
      "    isnan(x, /)\n",
      "        Return True if x is a NaN (not a number), and False otherwise.\n",
      "    \n",
      "    isqrt(n, /)\n",
      "        Return the integer part of the square root of the input.\n",
      "    \n",
      "    lcm(*integers)\n",
      "        Least Common Multiple.\n",
      "    \n",
      "    ldexp(x, i, /)\n",
      "        Return x * (2**i).\n",
      "        \n",
      "        This is essentially the inverse of frexp().\n",
      "    \n",
      "    lgamma(x, /)\n",
      "        Natural logarithm of absolute value of Gamma function at x.\n",
      "    \n",
      "    log(...)\n",
      "        log(x, [base=math.e])\n",
      "        Return the logarithm of x to the given base.\n",
      "        \n",
      "        If the base not specified, returns the natural logarithm (base e) of x.\n",
      "    \n",
      "    log10(x, /)\n",
      "        Return the base 10 logarithm of x.\n",
      "    \n",
      "    log1p(x, /)\n",
      "        Return the natural logarithm of 1+x (base e).\n",
      "        \n",
      "        The result is computed in a way which is accurate for x near zero.\n",
      "    \n",
      "    log2(x, /)\n",
      "        Return the base 2 logarithm of x.\n",
      "    \n",
      "    modf(x, /)\n",
      "        Return the fractional and integer parts of x.\n",
      "        \n",
      "        Both results carry the sign of x and are floats.\n",
      "    \n",
      "    nextafter(x, y, /)\n",
      "        Return the next floating-point value after x towards y.\n",
      "    \n",
      "    perm(n, k=None, /)\n",
      "        Number of ways to choose k items from n items without repetition and with order.\n",
      "        \n",
      "        Evaluates to n! / (n - k)! when k <= n and evaluates\n",
      "        to zero when k > n.\n",
      "        \n",
      "        If k is not specified or is None, then k defaults to n\n",
      "        and the function returns n!.\n",
      "        \n",
      "        Raises TypeError if either of the arguments are not integers.\n",
      "        Raises ValueError if either of the arguments are negative.\n",
      "    \n",
      "    pow(x, y, /)\n",
      "        Return x**y (x to the power of y).\n",
      "    \n",
      "    prod(iterable, /, *, start=1)\n",
      "        Calculate the product of all the elements in the input iterable.\n",
      "        \n",
      "        The default start value for the product is 1.\n",
      "        \n",
      "        When the iterable is empty, return the start value.  This function is\n",
      "        intended specifically for use with numeric values and may reject\n",
      "        non-numeric types.\n",
      "    \n",
      "    radians(x, /)\n",
      "        Convert angle x from degrees to radians.\n",
      "    \n",
      "    remainder(x, y, /)\n",
      "        Difference between x and the closest integer multiple of y.\n",
      "        \n",
      "        Return x - n*y where n*y is the closest integer multiple of y.\n",
      "        In the case where x is exactly halfway between two multiples of\n",
      "        y, the nearest even value of n is used. The result is always exact.\n",
      "    \n",
      "    sin(x, /)\n",
      "        Return the sine of x (measured in radians).\n",
      "    \n",
      "    sinh(x, /)\n",
      "        Return the hyperbolic sine of x.\n",
      "    \n",
      "    sqrt(x, /)\n",
      "        Return the square root of x.\n",
      "    \n",
      "    tan(x, /)\n",
      "        Return the tangent of x (measured in radians).\n",
      "    \n",
      "    tanh(x, /)\n",
      "        Return the hyperbolic tangent of x.\n",
      "    \n",
      "    trunc(x, /)\n",
      "        Truncates the Real x to the nearest Integral toward 0.\n",
      "        \n",
      "        Uses the __trunc__ magic method.\n",
      "    \n",
      "    ulp(x, /)\n",
      "        Return the value of the least significant bit of the float x.\n",
      "\n",
      "DATA\n",
      "    e = 2.718281828459045\n",
      "    inf = inf\n",
      "    nan = nan\n",
      "    pi = 3.141592653589793\n",
      "    tau = 6.283185307179586\n",
      "\n",
      "FILE\n",
      "    (built-in)\n",
      "\n",
      "\n"
     ]
    }
   ],
   "source": [
    "# Python'da help özelliği vardır\n",
    "\n",
    "help(math)"
   ]
  },
  {
   "cell_type": "code",
   "execution_count": 20,
   "id": "45282f11-f684-460c-8896-aec8d7963b86",
   "metadata": {
    "tags": []
   },
   "outputs": [
    {
     "data": {
      "text/plain": [
       "3.141592653589793"
      ]
     },
     "execution_count": 20,
     "metadata": {},
     "output_type": "execute_result"
    }
   ],
   "source": [
    "# math modülü içindeki bir fonksiyonu -> . ile çağrılır\n",
    "\n",
    "math.pi"
   ]
  },
  {
   "cell_type": "code",
   "execution_count": 21,
   "id": "724a4e0c-9437-421e-b909-6cef709866e6",
   "metadata": {
    "tags": []
   },
   "outputs": [
    {
     "name": "stdout",
     "output_type": "stream",
     "text": [
      "62.83185307179586\n"
     ]
    }
   ],
   "source": [
    "#Örnek:\n",
    "\n",
    "# Yarı çapı 10 cm olan bir cemberin çevresi ne kadardır?\n",
    "# Çevre : 2 * pi * r\n",
    "\n",
    "r = 10\n",
    "\n",
    "# Çevre\n",
    "Çevre = 2 * math.pi * r\n",
    "\n",
    "print(Çevre)"
   ]
  },
  {
   "cell_type": "code",
   "execution_count": 24,
   "id": "77ee26f7-b0d6-404a-b0fa-a1ecd1cb99e5",
   "metadata": {
    "tags": []
   },
   "outputs": [
    {
     "name": "stdout",
     "output_type": "stream",
     "text": [
      "0.5235987755982988\n"
     ]
    }
   ],
   "source": [
    "# 30 dercenin sinusünü hesaplıyalım\n",
    "\n",
    "derece = 30\n",
    "\n",
    "# Radyan hesapla\n",
    "radyan = math.radians(derece)\n",
    "\n",
    "print(radyan)"
   ]
  },
  {
   "cell_type": "code",
   "execution_count": 28,
   "id": "1cbd520b-c676-4bd2-a416-24d1e605a659",
   "metadata": {
    "tags": []
   },
   "outputs": [
    {
     "data": {
      "text/plain": [
       "-0.9880316240928618"
      ]
     },
     "execution_count": 28,
     "metadata": {},
     "output_type": "execute_result"
    }
   ],
   "source": [
    "# Yanlış kullanım\n",
    "sinus = math.sin(derece)\n",
    "sinus"
   ]
  },
  {
   "cell_type": "code",
   "execution_count": 26,
   "id": "74d96807-f37f-4d73-8709-53a7cc7e8ae6",
   "metadata": {
    "tags": []
   },
   "outputs": [
    {
     "name": "stdout",
     "output_type": "stream",
     "text": [
      "Help on built-in function sin in module math:\n",
      "\n",
      "sin(x, /)\n",
      "    Return the sine of x (measured in radians).\n",
      "\n"
     ]
    }
   ],
   "source": [
    "help(math.sin)"
   ]
  },
  {
   "cell_type": "code",
   "execution_count": 29,
   "id": "5a4f2a27-34ee-4313-9872-20582de73a17",
   "metadata": {
    "tags": []
   },
   "outputs": [
    {
     "data": {
      "text/plain": [
       "0.49999999999999994"
      ]
     },
     "execution_count": 29,
     "metadata": {},
     "output_type": "execute_result"
    }
   ],
   "source": [
    "# Doğru kullanım\n",
    "sinus = math.sin(radyan)\n",
    "sinus"
   ]
  },
  {
   "cell_type": "markdown",
   "id": "5b7565fd-eb1d-4965-b849-54c5c92ee8f6",
   "metadata": {},
   "source": [
    "### Fonksiyonlarn Birleşimi "
   ]
  },
  {
   "cell_type": "markdown",
   "id": "2021eca1-b78d-4d0b-a42a-9a5278b540f5",
   "metadata": {},
   "source": [
    " Yukarda kullandığımız math.sin() fomksiyonunu tek adımda kullanmak istersek."
   ]
  },
  {
   "cell_type": "code",
   "execution_count": 30,
   "id": "204cf5b1-73d2-475e-bc1e-689ea7532a4a",
   "metadata": {
    "tags": []
   },
   "outputs": [
    {
     "data": {
      "text/plain": [
       "0.49999999999999994"
      ]
     },
     "execution_count": 30,
     "metadata": {},
     "output_type": "execute_result"
    }
   ],
   "source": [
    "derce = 30\n",
    "sinus = math.sin(math.radians(derece))\n",
    "sinus"
   ]
  },
  {
   "cell_type": "markdown",
   "id": "2e064bbd-aca3-4782-9b11-ac5bc9d2dabb",
   "metadata": {},
   "source": [
    "**Chain:** Fonksiyonları Zincirlemek"
   ]
  },
  {
   "cell_type": "markdown",
   "id": "cf32d469-af8d-4502-92b9-95f5458c0153",
   "metadata": {},
   "source": [
    "#### Fonksiyon Tanımlamak;"
   ]
  },
  {
   "cell_type": "markdown",
   "id": "6fae8e38-7179-4cb1-ab90-f3e258721c40",
   "metadata": {},
   "source": [
    "**tanımlamak:definition**"
   ]
  },
  {
   "cell_type": "code",
   "execution_count": 32,
   "id": "24a2cd34-eb97-4407-92f3-a883f5dc7475",
   "metadata": {
    "tags": []
   },
   "outputs": [],
   "source": [
    "#Parametresiz Fonksiyon tanımlamak\n",
    "\n",
    "def fonksiyon_adi():\n",
    "    print(\"İlk fonksiyon\")\n",
    "    "
   ]
  },
  {
   "cell_type": "code",
   "execution_count": 33,
   "id": "0ac30b2a-18aa-4fcb-83db-373f91c4b5e6",
   "metadata": {
    "tags": []
   },
   "outputs": [
    {
     "name": "stdout",
     "output_type": "stream",
     "text": [
      "İlk fonksiyon\n"
     ]
    }
   ],
   "source": [
    "# Fonksiyonu tanımlamak\n",
    "\n",
    "fonksiyon_adi()"
   ]
  },
  {
   "cell_type": "markdown",
   "id": "e3d352c2-ebde-44a7-ab6b-8afeb2ba681c",
   "metadata": {},
   "source": [
    "**indent:** Python'da indent yapısı ile kod bölümlendirilir\n",
    "\n",
    "* indent: tab\n",
    "* indent: 4 space"
   ]
  },
  {
   "cell_type": "code",
   "execution_count": 35,
   "id": "96bd6bb8-a8e7-4ebb-817b-b90d0d89e564",
   "metadata": {
    "tags": []
   },
   "outputs": [
    {
     "name": "stdout",
     "output_type": "stream",
     "text": [
      "Adı: Emirhan T \n",
      "Yaşı: 17\n",
      "Dili: Python\n"
     ]
    }
   ],
   "source": [
    "# Öğrenci Bilgileri\n",
    "\n",
    "print(\"Adı: Emirhan T \")\n",
    "print(\"Yaşı: 17\")\n",
    "print(\"Dili: Python\")\n"
   ]
  },
  {
   "cell_type": "code",
   "execution_count": 36,
   "id": "bd53a503-b610-42bb-aa78-72d6b71b3686",
   "metadata": {
    "tags": []
   },
   "outputs": [
    {
     "name": "stdout",
     "output_type": "stream",
     "text": [
      "Adı: Emirhan T \n",
      "Yaşı: 17\n",
      "Dili: Python\n"
     ]
    }
   ],
   "source": [
    "# Öğrenci bilgileri tekrar lazım olsa\n",
    "\n",
    "print(\"Adı: Emirhan T \")\n",
    "print(\"Yaşı: 17\")\n",
    "print(\"Dili: Python\")\n"
   ]
  },
  {
   "cell_type": "code",
   "execution_count": 40,
   "id": "2ec27453-1d6f-4ddc-a30d-900478772d2a",
   "metadata": {
    "tags": []
   },
   "outputs": [],
   "source": [
    "#Parametresiz Fonksiyon Tanımlama\n",
    "\n",
    "def öğrenci_adi():\n",
    "    print(\"Adı: Emirhan T \")\n",
    "    "
   ]
  },
  {
   "cell_type": "code",
   "execution_count": 41,
   "id": "ce2a4448-d2c6-4715-9e26-17f4fefa8c35",
   "metadata": {
    "tags": []
   },
   "outputs": [
    {
     "name": "stdout",
     "output_type": "stream",
     "text": [
      "Adı: Emirhan T \n"
     ]
    }
   ],
   "source": [
    "öğrenci_adi()"
   ]
  },
  {
   "cell_type": "code",
   "execution_count": 42,
   "id": "0c18dfa4-a631-442e-9f7e-ce024f64071b",
   "metadata": {
    "tags": []
   },
   "outputs": [],
   "source": [
    "#Öğrenci yaşını print eden fonksiyon\n",
    "\n",
    "def öğrenci_yaşı():\n",
    "    print(\"Yaşı: 17\")\n",
    "    "
   ]
  },
  {
   "cell_type": "code",
   "execution_count": 44,
   "id": "be84dc1b-0bed-4f7b-8ebd-64cf3f0bf0f8",
   "metadata": {
    "tags": []
   },
   "outputs": [
    {
     "name": "stdout",
     "output_type": "stream",
     "text": [
      "Yaşı: 17\n"
     ]
    }
   ],
   "source": [
    "öğrenci_yaşı()"
   ]
  },
  {
   "cell_type": "code",
   "execution_count": 43,
   "id": "9f572ba2-1a7a-418a-b7d3-fc0f4cba9d7e",
   "metadata": {
    "tags": []
   },
   "outputs": [],
   "source": [
    "#Öğrenci dilini print enden fonksiyon\n",
    "\n",
    "def öğrenci_dili():\n",
    "    print(\"Dili: Python\")\n",
    "    "
   ]
  },
  {
   "cell_type": "code",
   "execution_count": 45,
   "id": "921ae732-f7f6-4e1c-8df8-081fe0bff85e",
   "metadata": {
    "tags": []
   },
   "outputs": [
    {
     "name": "stdout",
     "output_type": "stream",
     "text": [
      "Dili: Python\n"
     ]
    }
   ],
   "source": [
    "öğrenci_dili()"
   ]
  },
  {
   "cell_type": "code",
   "execution_count": 46,
   "id": "43f7d017-bb8c-4857-b552-a20d1ec016f7",
   "metadata": {
    "tags": []
   },
   "outputs": [
    {
     "name": "stdout",
     "output_type": "stream",
     "text": [
      "Adı: Emirhan T \n",
      "Dili: Python\n",
      "Yaşı: 17\n"
     ]
    }
   ],
   "source": [
    "# Öğrenci bilgilerini tekrar yaz\n",
    "\n",
    "öğrenci_adi()\n",
    "öğrenci_dili()\n",
    "öğrenci_yaşı()\n"
   ]
  },
  {
   "cell_type": "code",
   "execution_count": 47,
   "id": "2259a3e1-9e66-443f-b0f5-e723428b57a5",
   "metadata": {
    "tags": []
   },
   "outputs": [
    {
     "name": "stdout",
     "output_type": "stream",
     "text": [
      "Adı: Emirhan T \n",
      "Dili: Python\n",
      "Yaşı: 17\n"
     ]
    }
   ],
   "source": [
    "# Tekrar öğrenci bilgileri\n",
    "\n",
    "öğrenci_adi()\n",
    "öğrenci_dili()\n",
    "öğrenci_yaşı()\n"
   ]
  },
  {
   "cell_type": "code",
   "execution_count": 48,
   "id": "a6791cab-0835-4f82-9b9c-724f93a7541b",
   "metadata": {
    "tags": []
   },
   "outputs": [],
   "source": [
    "#Bütün öğrenci bilgileri yazan tek fonksiyon yazalım\n",
    "\n",
    "def öğrenci_bilgileri():\n",
    "    öğrenci_adi()\n",
    "    öğrenci_dili()\n",
    "    öğrenci_yaşı()\n",
    "    "
   ]
  },
  {
   "cell_type": "code",
   "execution_count": 49,
   "id": "2cefd099-bea1-4f73-a498-fd674047a136",
   "metadata": {
    "tags": []
   },
   "outputs": [
    {
     "name": "stdout",
     "output_type": "stream",
     "text": [
      "Adı: Emirhan T \n",
      "Dili: Python\n",
      "Yaşı: 17\n"
     ]
    }
   ],
   "source": [
    "# Tekrar öğrenci bilgileri\n",
    "\n",
    "öğrenci_bilgileri()"
   ]
  },
  {
   "cell_type": "code",
   "execution_count": 50,
   "id": "b4c9f3e5-7a1c-4a76-86e0-c8f76df067ce",
   "metadata": {
    "tags": []
   },
   "outputs": [
    {
     "data": {
      "text/plain": [
       "function"
      ]
     },
     "execution_count": 50,
     "metadata": {},
     "output_type": "execute_result"
    }
   ],
   "source": [
    "type(öğrenci_bilgileri)"
   ]
  },
  {
   "cell_type": "code",
   "execution_count": 51,
   "id": "947f16c8-78db-4466-8e85-d21cd15cf960",
   "metadata": {
    "tags": []
   },
   "outputs": [
    {
     "name": "stdout",
     "output_type": "stream",
     "text": [
      "<function öğrenci_bilgileri at 0x000002030535D800>\n"
     ]
    }
   ],
   "source": [
    "print(öğrenci_bilgileri)"
   ]
  },
  {
   "cell_type": "markdown",
   "id": "d2dbdc25-b845-4d03-a4e2-f044611c1946",
   "metadata": {},
   "source": [
    "Peki öğrenci adını ve soy adını ayrı ayrı yazmak istersek\n",
    "\n",
    "\"Adi\":\"Peter\"\n",
    "\n",
    "\"Soyadi\":\"Parker\"\n"
   ]
  },
  {
   "cell_type": "markdown",
   "id": "d44fb207-28d8-4a9d-bb9a-2b0558acc1ef",
   "metadata": {},
   "source": [
    "O zaman öğrenci_adi() fonksiyonunu atl fonksiyonlara bölmemiz gerekir"
   ]
  },
  {
   "cell_type": "code",
   "execution_count": 55,
   "id": "8d56f807-6fa4-4953-b9f1-650e4a1dc468",
   "metadata": {
    "tags": []
   },
   "outputs": [],
   "source": [
    "# Öğrencinin ilk adını ve soyadını veren iki ayrı fonksiyon yazalım\n",
    "\n",
    "def öğrenci_ilk_adi():\n",
    "    print(\"Adı: Peter\")\n",
    "    \n",
    "    \n",
    "def öğrenci_soyadi():\n",
    "    print(\"Soyadı: Parker\")\n",
    "    \n",
    "    "
   ]
  },
  {
   "cell_type": "code",
   "execution_count": 58,
   "id": "198490d0-35a9-44d0-8173-cbf5fba95094",
   "metadata": {
    "tags": []
   },
   "outputs": [],
   "source": [
    "#Şimdi öğrenci adi fonksiyonunu iki alt fonksiyonun birleşimi olarak yazalım\n",
    "\n",
    "def öğrenci_adi():\n",
    "    \n",
    "    öğrenci_ilk_adi()\n",
    "    \n",
    "    öğrenci_soyadi()\n",
    "    "
   ]
  },
  {
   "cell_type": "code",
   "execution_count": 60,
   "id": "c449ae41-519f-4a4f-952f-28e735e5f612",
   "metadata": {
    "tags": []
   },
   "outputs": [
    {
     "name": "stdout",
     "output_type": "stream",
     "text": [
      "Adı: Peter\n",
      "Soyadı: Parker\n"
     ]
    }
   ],
   "source": [
    "öğrenci_adi()"
   ]
  },
  {
   "cell_type": "code",
   "execution_count": 61,
   "id": "962eee1e-1919-4333-bed1-80e01b0642ba",
   "metadata": {
    "tags": []
   },
   "outputs": [
    {
     "name": "stdout",
     "output_type": "stream",
     "text": [
      "Adı: Peter\n",
      "Soyadı: Parker\n",
      "Dili: Python\n",
      "Yaşı: 17\n"
     ]
    }
   ],
   "source": [
    "öğrenci_bilgileri()"
   ]
  },
  {
   "cell_type": "markdown",
   "id": "f5e1b238-110a-4255-be11-0ac4ee28bb99",
   "metadata": {},
   "source": [
    "**İşleme Süresi (Execution Flow ):**\n",
    "\n",
    "Python yazdığınız kodu ilk satırdan ihtibaren çalışmaya başlar\n",
    "\n",
    "Ve aşşağı doğru iner.\n",
    "\n",
    "Eğer bir fonksiyon çağrılmasına denk gelirse\n",
    "\n",
    "Önce gider, o fonksiyonu çalıştırır, bştmesini bekler, geri döner\n",
    "\n",
    "Kaldığı yerden aşşağı doğru çalışmaya devam eder"
   ]
  },
  {
   "cell_type": "markdown",
   "id": "ee0b550b-5722-4214-b755-f5c7ab3e0af9",
   "metadata": {},
   "source": [
    "### Parametreler (Argümanler)"
   ]
  },
  {
   "cell_type": "markdown",
   "id": "158fcd61-fe9b-4745-99cc-4c0ec6ef3b32",
   "metadata": {},
   "source": [
    "Çoğu zaman fonksiyonlar parametrelere ihtiyaç duyarlar.\n",
    "\n",
    "**Parametreler:** fonksiyonun çalışması için kendisine iletilen girdilerdir\n",
    "\n",
    "Parametreler, Fonksiyonçağrılırken iletilir"
   ]
  },
  {
   "cell_type": "code",
   "execution_count": 1,
   "id": "8ce4aa50-716e-451f-9c8c-2b599ad6c407",
   "metadata": {
    "tags": []
   },
   "outputs": [],
   "source": [
    "#Kendisine iletilen sayını karesini alan bir fonksiyon yazmak istiyoruz\n",
    "\n",
    "def karesini_yaz(sayi):\n",
    "    \n",
    "    \n",
    "    #Sayını karesini al\n",
    "    karesi = sayi**2\n",
    "    \n",
    "    #Sayını karesini yaz\n",
    "    print(karesi)\n",
    "    "
   ]
  },
  {
   "cell_type": "code",
   "execution_count": 4,
   "id": "e48eebef-d6d0-403e-a057-ded402eedce9",
   "metadata": {
    "tags": []
   },
   "outputs": [
    {
     "ename": "TypeError",
     "evalue": "karesini_yaz() missing 1 required positional argument: 'sayi'",
     "output_type": "error",
     "traceback": [
      "\u001b[1;31m---------------------------------------------------------------------------\u001b[0m",
      "\u001b[1;31mTypeError\u001b[0m                                 Traceback (most recent call last)",
      "Cell \u001b[1;32mIn[4], line 3\u001b[0m\n\u001b[0;32m      1\u001b[0m \u001b[38;5;66;03m#Şimdi bu fonksiyonu parametre ile çağıralım\u001b[39;00m\n\u001b[1;32m----> 3\u001b[0m karesini_yaz()\n",
      "\u001b[1;31mTypeError\u001b[0m: karesini_yaz() missing 1 required positional argument: 'sayi'"
     ]
    }
   ],
   "source": [
    "#Şimdi bu fonksiyonu parametre ile çağıralım\n",
    "\n",
    "karesini_yaz()"
   ]
  },
  {
   "cell_type": "code",
   "execution_count": 5,
   "id": "b2a0277d-c00a-447a-bb4d-593018c772f4",
   "metadata": {
    "tags": []
   },
   "outputs": [
    {
     "name": "stdout",
     "output_type": "stream",
     "text": [
      "36\n"
     ]
    }
   ],
   "source": [
    "karesini_yaz(6)"
   ]
  },
  {
   "cell_type": "code",
   "execution_count": 6,
   "id": "e210c309-c0f8-4a01-be32-d945696dd7ed",
   "metadata": {
    "tags": []
   },
   "outputs": [
    {
     "name": "stdout",
     "output_type": "stream",
     "text": [
      "64\n"
     ]
    }
   ],
   "source": [
    "karesini_yaz(8)"
   ]
  },
  {
   "cell_type": "code",
   "execution_count": 7,
   "id": "1b18f56f-42e4-4ca3-9046-370011ee3dc3",
   "metadata": {
    "tags": []
   },
   "outputs": [],
   "source": [
    "#Örnek:\n",
    "\n",
    "# Bu sefer iki parametre alan fonksiyon alalım\n",
    "# İki marametre : uzun_kenar , kısa_kenar\n",
    "# Fonksiyon dikdortgenin alanını hesaplasın\n",
    "\n",
    "def dikdortgen_alanı_hesapla(kısa_kenar,uzun_kenar):\n",
    "    \n",
    "    # Alan hesapla -> bunu bir değişkene ata\n",
    "    dikdortgen_alani = kısa_kenar * uzun_kenar\n",
    "    \n",
    "    # Bu alanı print et\n",
    "    print(dikdortgen_alani)\n",
    "    "
   ]
  },
  {
   "cell_type": "code",
   "execution_count": 8,
   "id": "478d36fa-0706-4934-8ab1-77008c7ff04e",
   "metadata": {
    "tags": []
   },
   "outputs": [
    {
     "name": "stdout",
     "output_type": "stream",
     "text": [
      "48\n"
     ]
    }
   ],
   "source": [
    "# Şimdi fonksiyonu iki parametre ile çağralım\n",
    "\n",
    "dikdortgen_alanı_hesapla(8,6)"
   ]
  },
  {
   "cell_type": "code",
   "execution_count": 9,
   "id": "72db50ed-addf-419d-bcec-58601fd3244a",
   "metadata": {
    "tags": []
   },
   "outputs": [
    {
     "name": "stdout",
     "output_type": "stream",
     "text": [
      "32\n"
     ]
    }
   ],
   "source": [
    "kisa = 4\n",
    "uzun = 8\n",
    "\n",
    "dikdortgen_alanı_hesapla(kisa,uzun)"
   ]
  },
  {
   "cell_type": "code",
   "execution_count": 45,
   "id": "27da087a-a521-4e92-afad-d3deaae140f9",
   "metadata": {
    "tags": []
   },
   "outputs": [],
   "source": [
    "# Örnek:\n",
    "\n",
    "# En son tanımladığımız öğrenci_bilgileri fonksiyonunu parametre yapalım\n",
    "\n",
    "# Öğrenci adi\n",
    "def öğrenci_ilk_adi(ilk_adi):\n",
    "    print(\"Adi: \" + ilk_adi )\n",
    "\n",
    "def  öğrenci_soyadi(soyadi):\n",
    "    print(\"Soyadı:\" + soyadi )\n",
    "\n",
    "def  öğrenci_yaşı(yas):\n",
    "    print(\"Yaşı:\" + yas )\n",
    "    \n",
    "def öğrenci_dili(dili):\n",
    "    print(\"Dili : \"+ dili )\n",
    "    \n",
    "    \n",
    "def öğrenci_bilgileri(ilk_adi,soyadi,yas,dili):\n",
    "    \n",
    "    #Öğrenci ilk adi\n",
    "    öğrenci_ilk_adi(ilk_adi)\n",
    "    \n",
    "    #Öğrenci soyadi\n",
    "    öğrenci_soyadi(soyadi)\n",
    "    \n",
    "    #öğrenci yaşı\n",
    "    öğrenci_yaşi(yas)\n",
    "    \n",
    "    #Öğrenci Dili\n",
    "    öğrenci_dili(dili)\n",
    "    \n",
    "    "
   ]
  },
  {
   "cell_type": "code",
   "execution_count": 46,
   "id": "2445aad2-e2bd-4981-a613-16e961163ed3",
   "metadata": {
    "tags": []
   },
   "outputs": [
    {
     "name": "stdout",
     "output_type": "stream",
     "text": [
      "Adi: Emirhan\n",
      "Soyadı:Tiraş\n",
      "Yaşı:16\n",
      "Dili : Python\n"
     ]
    }
   ],
   "source": [
    "ilk = \"Emirhan\"\n",
    "soy = \"Tiraş\"\n",
    "yasi = \"16\"\n",
    "kullandığı_dil = \"Python\"\n",
    "\n",
    "öğrenci_bilgileri(ilk,soy,yasi,kullandığı_dil)"
   ]
  },
  {
   "cell_type": "markdown",
   "id": "6fc17a31-ad51-44b4-a52e-c96f53c4c9e6",
   "metadata": {},
   "source": [
    "### Scope (Yaşam Alanı) Kavramı "
   ]
  },
  {
   "cell_type": "markdown",
   "id": "4091044e-ba51-496f-aaef-ee86bbea87e4",
   "metadata": {},
   "source": [
    "Pythonda değişkenler tanımlandıkları alanda ve o alanın atl alanlarında geçerlidir.\n",
    "\n",
    "Buna **Scope** yani yaşam alanı denir\n",
    "\n",
    "Pythonda scope girinti (indent) ile tanımlanır"
   ]
  },
  {
   "cell_type": "code",
   "execution_count": 47,
   "id": "47c780f7-cbb3-4446-954c-194f5787799c",
   "metadata": {
    "tags": []
   },
   "outputs": [],
   "source": [
    "# Fonksiyon scope içinde bir değişken tanımlıyalım\n",
    "\n",
    "def scope():\n",
    "    scope_değişkeni = 100\n",
    "    print(scope_değişkeni)\n",
    "    "
   ]
  },
  {
   "cell_type": "code",
   "execution_count": 48,
   "id": "508c37bd-b46f-4bc4-978e-86a40ba0702d",
   "metadata": {
    "tags": []
   },
   "outputs": [
    {
     "name": "stdout",
     "output_type": "stream",
     "text": [
      "100\n"
     ]
    }
   ],
   "source": [
    "# Fonksiyonu çağır\n",
    "\n",
    "scope()"
   ]
  },
  {
   "cell_type": "code",
   "execution_count": 49,
   "id": "5f99c40b-3aa4-4c23-bad8-3915f11c1d15",
   "metadata": {
    "tags": []
   },
   "outputs": [
    {
     "ename": "NameError",
     "evalue": "name 'scope_değişkeni' is not defined",
     "output_type": "error",
     "traceback": [
      "\u001b[1;31m---------------------------------------------------------------------------\u001b[0m",
      "\u001b[1;31mNameError\u001b[0m                                 Traceback (most recent call last)",
      "Cell \u001b[1;32mIn[49], line 3\u001b[0m\n\u001b[0;32m      1\u001b[0m \u001b[38;5;66;03m#Şimdi bu değişkene dışardan erişmeye çalışalım\u001b[39;00m\n\u001b[1;32m----> 3\u001b[0m \u001b[38;5;28mprint\u001b[39m(scope_değişkeni)\n",
      "\u001b[1;31mNameError\u001b[0m: name 'scope_değişkeni' is not defined"
     ]
    }
   ],
   "source": [
    "#Şimdi bu değişkene dışardan erişmeye çalışalım\n",
    "\n",
    "print(scope_değişkeni)"
   ]
  },
  {
   "cell_type": "markdown",
   "id": "ab8dddc7-1aa9-48c3-be96-82cb66c197cd",
   "metadata": {},
   "source": [
    "Değişkenin scope'unun dışından ona ulaşmaya çalışırken Python Interpreter hata verir ->\n",
    "NameEror"
   ]
  },
  {
   "cell_type": "markdown",
   "id": "f967ca24-e250-48a1-9c8f-d49be1c8e832",
   "metadata": {},
   "source": [
    "Ama daha üstte yani **global scope**ta tanımlanmış bir değişkene erişebilirsiniz"
   ]
  },
  {
   "cell_type": "code",
   "execution_count": 50,
   "id": "7cf8e5e3-1155-4264-a8e5-967d97e52043",
   "metadata": {
    "tags": []
   },
   "outputs": [],
   "source": [
    "kısa = 4\n",
    "uzun = 6"
   ]
  },
  {
   "cell_type": "code",
   "execution_count": 53,
   "id": "7dde01f7-1d98-4eac-ba3c-524b42046092",
   "metadata": {
    "tags": []
   },
   "outputs": [],
   "source": [
    "# En tepede tanımlanmış kısa ve uzan değişkenlerine tüm fonksiyonlar değişebilir\n",
    "\n",
    "def çevre():\n",
    "    dikdortgen_çevresi = 2*(kısa*uzun)\n",
    "    print(dikdortgen_çevresi)\n",
    "    "
   ]
  },
  {
   "cell_type": "code",
   "execution_count": 54,
   "id": "b2b4d4a5-df6d-432e-8d59-b84193ac6232",
   "metadata": {
    "tags": []
   },
   "outputs": [
    {
     "name": "stdout",
     "output_type": "stream",
     "text": [
      "48\n"
     ]
    }
   ],
   "source": [
    "çevre()"
   ]
  },
  {
   "cell_type": "markdown",
   "id": "1bd255f0-2852-464b-a569-4a4d41054573",
   "metadata": {},
   "source": [
    "Peki `Global Scope` içindeki bir değişkeni fonksiyon içinde değiştirebilirmiyiz ?"
   ]
  },
  {
   "cell_type": "code",
   "execution_count": 56,
   "id": "fa13f2ed-457e-4e0e-b092-0ebc57fdbd05",
   "metadata": {
    "tags": []
   },
   "outputs": [
    {
     "data": {
      "text/plain": [
       "4"
      ]
     },
     "execution_count": 56,
     "metadata": {},
     "output_type": "execute_result"
    }
   ],
   "source": [
    "# Kısa değişkenin mevcut halini görelim\n",
    "\n",
    "kısa"
   ]
  },
  {
   "cell_type": "code",
   "execution_count": 57,
   "id": "baf1c6f4-3a26-4c55-be15-c1b9a8ef26f1",
   "metadata": {
    "tags": []
   },
   "outputs": [],
   "source": [
    "# Global scope'u değiştirmeye çalışan fonksiyon\n",
    "\n",
    "def global_degisken_değiştir():\n",
    "    kısa = 400\n",
    "    print(kısa)\n",
    "    "
   ]
  },
  {
   "cell_type": "code",
   "execution_count": 60,
   "id": "7e0f8e27-a8c3-4d9a-a80c-80a5ef579010",
   "metadata": {
    "tags": []
   },
   "outputs": [
    {
     "name": "stdout",
     "output_type": "stream",
     "text": [
      "400\n"
     ]
    }
   ],
   "source": [
    "#Fonksiyonu çağır\n",
    "\n",
    "global_degisken_değiştir()\n"
   ]
  },
  {
   "cell_type": "code",
   "execution_count": 61,
   "id": "ff1f3627-fb24-462b-b0c5-a5ee569602ae",
   "metadata": {
    "tags": []
   },
   "outputs": [
    {
     "data": {
      "text/plain": [
       "4"
      ]
     },
     "execution_count": 61,
     "metadata": {},
     "output_type": "execute_result"
    }
   ],
   "source": [
    "#Fonksiyon çağrıldıktan sonra -> kısa değişkene ne oldu \n",
    "\n",
    "kısa"
   ]
  },
  {
   "cell_type": "markdown",
   "id": "f8a71978-96fd-4690-8ded-fcb49e5ecd64",
   "metadata": {},
   "source": [
    "Fonksiyon içinden değiştirmemize rağmen globaldeki değişkenin değeri değişmedi\n",
    "\n",
    "Sebebi:\n",
    "\n",
    "Python,globaldaki 'kısa'değişkenine dokunmadı.\n",
    "\n",
    "Siz, fonksiyon içinde 'kısa' değişkenine atama yaptığınız anda,Python sizin yeni bir değişken tanımlar\n",
    "\n",
    "Globaldaki değişkenin kopyasıdır. Bu yeni kopya sadece fonksiyon scope'u içinde yaşar.\n",
    "\n",
    "\n",
    "Çözümü:\n",
    "\n",
    "Global scope'taki değişkeni gerçekten değiştirmek istiyorsak:\n",
    "\n",
    "Değişken başına **global** anahtar kelimesi yazılır.\n"
   ]
  },
  {
   "cell_type": "code",
   "execution_count": 62,
   "id": "1115ef8c-d240-4cc6-a1ff-4f511f8104c0",
   "metadata": {
    "tags": []
   },
   "outputs": [],
   "source": [
    "#Fonksiyonu tekrar tanımlayalım\n",
    "\n",
    "def global_degisken_değiştir():\n",
    "    global kısa\n",
    "    kısa = 400\n",
    "    print(kısa)\n",
    "    "
   ]
  },
  {
   "cell_type": "code",
   "execution_count": 63,
   "id": "d03a5857-b7f1-4841-be9d-e1c9f53e857f",
   "metadata": {
    "tags": []
   },
   "outputs": [
    {
     "name": "stdout",
     "output_type": "stream",
     "text": [
      "400\n"
     ]
    }
   ],
   "source": [
    "global_degisken_değiştir()"
   ]
  },
  {
   "cell_type": "code",
   "execution_count": 65,
   "id": "e8ab14a1-fc80-4027-a791-ec229a17224d",
   "metadata": {
    "tags": []
   },
   "outputs": [
    {
     "data": {
      "text/plain": [
       "400"
      ]
     },
     "execution_count": 65,
     "metadata": {},
     "output_type": "execute_result"
    }
   ],
   "source": [
    "#Globaldeki kısa değişkenini tekrar görelim\n",
    "\n",
    "kısa"
   ]
  },
  {
   "cell_type": "markdown",
   "id": "55685474-54ef-4c05-9850-2f8b6268d947",
   "metadata": {},
   "source": [
    "### Fonksiyonun Değer Dönmesi (Return)"
   ]
  },
  {
   "cell_type": "markdown",
   "id": "fad058d9-332a-4fb8-ada5-b2b95e251b43",
   "metadata": {},
   "source": [
    "Fonksiyonlar işlerini bitirdikten sonra geriye değer dönebilirler\n",
    "\n",
    "Buna geriye değer **return** etmek denir\n",
    "\n",
    "Ve return anahtar kelimesi ile sağlanır"
   ]
  },
  {
   "cell_type": "code",
   "execution_count": 66,
   "id": "9f97987a-1e01-4588-b792-559f2d5f1787",
   "metadata": {
    "tags": []
   },
   "outputs": [],
   "source": [
    "# Kendisine parametre olarak verilen bir sayının hesaplayıp geriye dönen bir fonksiyon yazalım\n",
    "\n",
    "def cube(n):\n",
    "    \n",
    "    # Sayının küpünü hesapla\n",
    "    n_küp = n**3\n",
    "    \n",
    "    # Bu küp değerine geri dön \n",
    "    return n_küp\n"
   ]
  },
  {
   "cell_type": "code",
   "execution_count": 70,
   "id": "ff3dd018-045a-4d77-8423-5ab6476c9247",
   "metadata": {
    "tags": []
   },
   "outputs": [
    {
     "name": "stdout",
     "output_type": "stream",
     "text": [
      "125\n"
     ]
    }
   ],
   "source": [
    "# Simdi fonksiyonun çağırdığınız zaman ,fonksiyon bize bir döner\n",
    "# O değeri alıp bir değişkene atıyabiliriz \n",
    "\n",
    "sayi = 5\n",
    "\n",
    "küp = cube(5)\n",
    "\n",
    "print(küp)"
   ]
  },
  {
   "cell_type": "code",
   "execution_count": 71,
   "id": "19817a23-840e-4edb-9512-541680c5cd12",
   "metadata": {
    "tags": []
   },
   "outputs": [
    {
     "name": "stdout",
     "output_type": "stream",
     "text": [
      "64\n"
     ]
    }
   ],
   "source": [
    "n = 4\n",
    "dortun_küpü = cube(4)\n",
    "print(dortun_küpü)\n"
   ]
  },
  {
   "cell_type": "code",
   "execution_count": 72,
   "id": "c986e9a6-5864-4a9b-9e82-82d956bb0e37",
   "metadata": {
    "tags": []
   },
   "outputs": [
    {
     "name": "stdout",
     "output_type": "stream",
     "text": [
      "216\n"
     ]
    }
   ],
   "source": [
    "# Birleşim -> chain\n",
    "\n",
    "n = 6 \n",
    "\n",
    "print(cube(n))"
   ]
  },
  {
   "cell_type": "markdown",
   "id": "fd565843-70b4-4aae-a93b-d883a2647c34",
   "metadata": {},
   "source": [
    "Geriye değer dönmeyen fonksiyonlara , **void** fonksiyonlar denir"
   ]
  },
  {
   "cell_type": "markdown",
   "id": "3805723d-2d8a-45e7-8f84-b9ba8806e37f",
   "metadata": {},
   "source": [
    "### Docstring - Fonksiyonun Dökümantasyonu"
   ]
  },
  {
   "cell_type": "code",
   "execution_count": 73,
   "id": "9f713253-45fd-4dc7-a153-455be8a20509",
   "metadata": {
    "tags": []
   },
   "outputs": [
    {
     "name": "stdout",
     "output_type": "stream",
     "text": [
      "Help on function cube in module __main__:\n",
      "\n",
      "cube(n)\n",
      "\n"
     ]
    }
   ],
   "source": [
    "# Fonksiyonun hakkında yardım alalım\n",
    "\n",
    "help(cube)"
   ]
  },
  {
   "cell_type": "code",
   "execution_count": 75,
   "id": "62b2d5a0-f50e-4653-9800-29c8064437d1",
   "metadata": {
    "tags": []
   },
   "outputs": [
    {
     "data": {
      "text/plain": [
       "\u001b[1;31mSignature:\u001b[0m \u001b[0mcube\u001b[0m\u001b[1;33m(\u001b[0m\u001b[0mn\u001b[0m\u001b[1;33m)\u001b[0m\u001b[1;33m\u001b[0m\u001b[1;33m\u001b[0m\u001b[0m\n",
       "\u001b[1;31mDocstring:\u001b[0m <no docstring>\n",
       "\u001b[1;31mFile:\u001b[0m      c:\\users\\asus\\appdata\\local\\temp\\ipykernel_12168\\3133157925.py\n",
       "\u001b[1;31mType:\u001b[0m      function"
      ]
     },
     "metadata": {},
     "output_type": "display_data"
    }
   ],
   "source": [
    "# Yardım görmek için -> Biraz daha detaylı yardım\n",
    "\n",
    "cube?"
   ]
  },
  {
   "cell_type": "code",
   "execution_count": 76,
   "id": "520005ce-cabc-4620-ae9d-a01f346c1fef",
   "metadata": {
    "tags": []
   },
   "outputs": [
    {
     "data": {
      "text/plain": [
       "\u001b[1;31mSignature:\u001b[0m \u001b[0mcube\u001b[0m\u001b[1;33m(\u001b[0m\u001b[0mn\u001b[0m\u001b[1;33m)\u001b[0m\u001b[1;33m\u001b[0m\u001b[1;33m\u001b[0m\u001b[0m\n",
       "\u001b[1;31mDocstring:\u001b[0m <no docstring>\n",
       "\u001b[1;31mSource:\u001b[0m   \n",
       "\u001b[1;32mdef\u001b[0m \u001b[0mcube\u001b[0m\u001b[1;33m(\u001b[0m\u001b[0mn\u001b[0m\u001b[1;33m)\u001b[0m\u001b[1;33m:\u001b[0m\u001b[1;33m\n",
       "\u001b[0m    \u001b[1;33m\n",
       "\u001b[0m    \u001b[1;31m# Sayının küpünü hesapla\u001b[0m\u001b[1;33m\n",
       "\u001b[0m    \u001b[0mn_küp\u001b[0m \u001b[1;33m=\u001b[0m \u001b[0mn\u001b[0m\u001b[1;33m**\u001b[0m\u001b[1;36m3\u001b[0m\u001b[1;33m\n",
       "\u001b[0m    \u001b[1;33m\n",
       "\u001b[0m    \u001b[1;31m# Bu küp değerine geri dön \u001b[0m\u001b[1;33m\n",
       "\u001b[0m    \u001b[1;32mreturn\u001b[0m \u001b[0mn_küp\u001b[0m\u001b[1;33m\u001b[0m\u001b[1;33m\u001b[0m\u001b[0m\n",
       "\u001b[1;31mFile:\u001b[0m      c:\\users\\asus\\appdata\\local\\temp\\ipykernel_12168\\3133157925.py\n",
       "\u001b[1;31mType:\u001b[0m      function"
      ]
     },
     "metadata": {},
     "output_type": "display_data"
    }
   ],
   "source": [
    "# Yardım 3 -> Daha detaylısı\n",
    "\n",
    "cube??"
   ]
  },
  {
   "cell_type": "code",
   "execution_count": 79,
   "id": "35321d12-8f29-460a-a9ed-ad71eab480f9",
   "metadata": {
    "tags": []
   },
   "outputs": [],
   "source": [
    "# Docstring'i olan bir fonksiyon yazalım\n",
    "\n",
    "import math\n",
    "\n",
    "def üstel_hesapla(sayi,üst):\n",
    "    \"\"\"\n",
    "        Bu fonksiyon üstel hesaplama yapar\n",
    "        Parametreler: int sayi, int üst\n",
    "        Sonuç: Verilen sayının,üstünü döner\n",
    "    \n",
    "    \"\"\"\n",
    "    # Sayını üssünü hesapla\n",
    "    # Üstel = sayi**üst\n",
    "    üstel = math.pow(sayi,üst)\n",
    "    \n",
    "    # Bulduğun üssü dön\n",
    "    return üstel"
   ]
  },
  {
   "cell_type": "code",
   "execution_count": 80,
   "id": "08d421f4-7301-4c52-be5d-80ae796c3306",
   "metadata": {
    "tags": []
   },
   "outputs": [
    {
     "name": "stdout",
     "output_type": "stream",
     "text": [
      "Help on function üstel_hesapla in module __main__:\n",
      "\n",
      "üstel_hesapla(sayi, üst)\n",
      "    Bu fonksiyon üstel hesaplama yapar\n",
      "    Parametreler: int sayi, int üst\n",
      "    Sonuç: Verilen sayının,üstünü döner\n",
      "\n"
     ]
    }
   ],
   "source": [
    "# Şimdi fonksiyon için yardım çağralım\n",
    "\n",
    "# Help()\n",
    "help(üstel_hesapla)"
   ]
  },
  {
   "cell_type": "code",
   "execution_count": 81,
   "id": "7516c94f-625c-4a67-95ba-336a41628b7d",
   "metadata": {
    "tags": []
   },
   "outputs": [
    {
     "data": {
      "text/plain": [
       "\u001b[1;31mSignature:\u001b[0m \u001b[0müstel_hesapla\u001b[0m\u001b[1;33m(\u001b[0m\u001b[0msayi\u001b[0m\u001b[1;33m,\u001b[0m \u001b[0müst\u001b[0m\u001b[1;33m)\u001b[0m\u001b[1;33m\u001b[0m\u001b[1;33m\u001b[0m\u001b[0m\n",
       "\u001b[1;31mDocstring:\u001b[0m\n",
       "Bu fonksiyon üstel hesaplama yapar\n",
       "Parametreler: int sayi, int üst\n",
       "Sonuç: Verilen sayının,üstünü döner\n",
       "\u001b[1;31mFile:\u001b[0m      c:\\users\\asus\\appdata\\local\\temp\\ipykernel_12168\\3278018932.py\n",
       "\u001b[1;31mType:\u001b[0m      function"
      ]
     },
     "metadata": {},
     "output_type": "display_data"
    }
   ],
   "source": [
    "# ? ile yardım\n",
    "\n",
    "üstel_hesapla?"
   ]
  },
  {
   "cell_type": "code",
   "execution_count": 82,
   "id": "5d005df9-c787-41ae-b7d7-383d5653b898",
   "metadata": {
    "tags": []
   },
   "outputs": [
    {
     "data": {
      "text/plain": [
       "\u001b[1;31mSignature:\u001b[0m \u001b[0müstel_hesapla\u001b[0m\u001b[1;33m(\u001b[0m\u001b[0msayi\u001b[0m\u001b[1;33m,\u001b[0m \u001b[0müst\u001b[0m\u001b[1;33m)\u001b[0m\u001b[1;33m\u001b[0m\u001b[1;33m\u001b[0m\u001b[0m\n",
       "\u001b[1;31mSource:\u001b[0m   \n",
       "\u001b[1;32mdef\u001b[0m \u001b[0müstel_hesapla\u001b[0m\u001b[1;33m(\u001b[0m\u001b[0msayi\u001b[0m\u001b[1;33m,\u001b[0m\u001b[0müst\u001b[0m\u001b[1;33m)\u001b[0m\u001b[1;33m:\u001b[0m\u001b[1;33m\n",
       "\u001b[0m    \u001b[1;34m\"\"\"\n",
       "        Bu fonksiyon üstel hesaplama yapar\n",
       "        Parametreler: int sayi, int üst\n",
       "        Sonuç: Verilen sayının,üstünü döner\n",
       "    \n",
       "    \"\"\"\u001b[0m\u001b[1;33m\n",
       "\u001b[0m    \u001b[1;31m# Sayını üssünü hesapla\u001b[0m\u001b[1;33m\n",
       "\u001b[0m    \u001b[1;31m# Üstel = sayi**üst\u001b[0m\u001b[1;33m\n",
       "\u001b[0m    \u001b[0müstel\u001b[0m \u001b[1;33m=\u001b[0m \u001b[0mmath\u001b[0m\u001b[1;33m.\u001b[0m\u001b[0mpow\u001b[0m\u001b[1;33m(\u001b[0m\u001b[0msayi\u001b[0m\u001b[1;33m,\u001b[0m\u001b[0müst\u001b[0m\u001b[1;33m)\u001b[0m\u001b[1;33m\n",
       "\u001b[0m    \u001b[1;33m\n",
       "\u001b[0m    \u001b[1;31m# Bulduğun üssü dön\u001b[0m\u001b[1;33m\n",
       "\u001b[0m    \u001b[1;32mreturn\u001b[0m \u001b[0müstel\u001b[0m\u001b[1;33m\u001b[0m\u001b[1;33m\u001b[0m\u001b[0m\n",
       "\u001b[1;31mFile:\u001b[0m      c:\\users\\asus\\appdata\\local\\temp\\ipykernel_12168\\3278018932.py\n",
       "\u001b[1;31mType:\u001b[0m      function"
      ]
     },
     "metadata": {},
     "output_type": "display_data"
    }
   ],
   "source": [
    "# ?? ile yardım\n",
    "\n",
    "üstel_hesapla??"
   ]
  },
  {
   "cell_type": "code",
   "execution_count": 83,
   "id": "db2897fb-1623-4957-aee6-b9cc7efd4803",
   "metadata": {
    "tags": []
   },
   "outputs": [
    {
     "data": {
      "text/plain": [
       "\u001b[1;31mSignature:\u001b[0m \u001b[0mmath\u001b[0m\u001b[1;33m.\u001b[0m\u001b[0mpow\u001b[0m\u001b[1;33m(\u001b[0m\u001b[0mx\u001b[0m\u001b[1;33m,\u001b[0m \u001b[0my\u001b[0m\u001b[1;33m,\u001b[0m \u001b[1;33m/\u001b[0m\u001b[1;33m)\u001b[0m\u001b[1;33m\u001b[0m\u001b[1;33m\u001b[0m\u001b[0m\n",
       "\u001b[1;31mDocstring:\u001b[0m Return x**y (x to the power of y).\n",
       "\u001b[1;31mType:\u001b[0m      builtin_function_or_method"
      ]
     },
     "metadata": {},
     "output_type": "display_data"
    }
   ],
   "source": [
    "# math.pow içi dökümantasyon görelim\n",
    "\n",
    "math.pow?"
   ]
  },
  {
   "cell_type": "markdown",
   "id": "89f7a716-1992-4522-a476-bd9095310281",
   "metadata": {},
   "source": [
    "**Hazır Method ve Attribute'lar**\n",
    "\n",
    "Python'da nesnelerin hazır methodları ve hazır attribute'ları (özellikleri) vardır\n",
    "\n",
    "Bunlara kısa yoldan erişilebilir\n"
   ]
  },
  {
   "cell_type": "code",
   "execution_count": 84,
   "id": "1dba874f-0b51-48ca-8ea1-5289e7bf43da",
   "metadata": {
    "tags": []
   },
   "outputs": [
    {
     "data": {
      "text/plain": [
       "'\\n        Bu fonksiyon üstel hesaplama yapar\\n        Parametreler: int sayi, int üst\\n        Sonuç: Verilen sayının,üstünü döner\\n    \\n    '"
      ]
     },
     "execution_count": 84,
     "metadata": {},
     "output_type": "execute_result"
    }
   ],
   "source": [
    "# docstring için -> __doc__\n",
    "\n",
    "üstel_hesapla.__doc__"
   ]
  },
  {
   "cell_type": "code",
   "execution_count": 85,
   "id": "99e95fe3-dccb-4a6b-9d09-fcf82cbafd4a",
   "metadata": {
    "tags": []
   },
   "outputs": [
    {
     "name": "stdout",
     "output_type": "stream",
     "text": [
      "\n",
      "        Bu fonksiyon üstel hesaplama yapar\n",
      "        Parametreler: int sayi, int üst\n",
      "        Sonuç: Verilen sayının,üstünü döner\n",
      "    \n",
      "    \n"
     ]
    }
   ],
   "source": [
    "print(üstel_hesapla.__doc__)"
   ]
  },
  {
   "cell_type": "markdown",
   "id": "941da351-6d77-48ef-93c9-f4f2c0b7cf28",
   "metadata": {},
   "source": [
    "Python'da built-in (hazır) olan iki alt tre (__) ile erişilen method veya attribute'lara (özelliklere)\n",
    "\n",
    "**dunder** adı verilir\n",
    "\n",
    "`dunder` : `double underscore`"
   ]
  },
  {
   "cell_type": "code",
   "execution_count": 87,
   "id": "9346237c-fb2a-466a-807d-5bb2575b8a22",
   "metadata": {
    "tags": []
   },
   "outputs": [
    {
     "data": {
      "text/plain": [
       "'Return x**y (x to the power of y).'"
      ]
     },
     "execution_count": 87,
     "metadata": {},
     "output_type": "execute_result"
    }
   ],
   "source": [
    "math.pow.__doc__"
   ]
  },
  {
   "cell_type": "code",
   "execution_count": 89,
   "id": "68754d11-4cd3-4615-a043-703aa39032cf",
   "metadata": {
    "tags": []
   },
   "outputs": [
    {
     "data": {
      "text/plain": [
       "'__main__'"
      ]
     },
     "execution_count": 89,
     "metadata": {},
     "output_type": "execute_result"
    }
   ],
   "source": [
    "# Yarattığımız üstel_hesapla fonksiyonu için hangi mödülde olduğunu görmek için\n",
    "\n",
    "üstel_hesapla.__module__"
   ]
  },
  {
   "cell_type": "markdown",
   "id": "f79f62e7-be10-4be5-8615-43b2ac969704",
   "metadata": {},
   "source": [
    "**main** mödül'ü bizim şuanda çalıştığımız modüldür"
   ]
  },
  {
   "cell_type": "code",
   "execution_count": 90,
   "id": "22fd8daa-37b6-4163-b45c-e1707389d361",
   "metadata": {
    "tags": []
   },
   "outputs": [
    {
     "data": {
      "text/plain": [
       "'üstel_hesapla'"
      ]
     },
     "execution_count": 90,
     "metadata": {},
     "output_type": "execute_result"
    }
   ],
   "source": [
    "üstel_hesapla.__name__"
   ]
  },
  {
   "cell_type": "code",
   "execution_count": null,
   "id": "31f4cd36-a862-4ccf-ab5d-b067326a068e",
   "metadata": {},
   "outputs": [],
   "source": []
  }
 ],
 "metadata": {
  "kernelspec": {
   "display_name": "Python 3 (ipykernel)",
   "language": "python",
   "name": "python3"
  },
  "language_info": {
   "codemirror_mode": {
    "name": "ipython",
    "version": 3
   },
   "file_extension": ".py",
   "mimetype": "text/x-python",
   "name": "python",
   "nbconvert_exporter": "python",
   "pygments_lexer": "ipython3",
   "version": "3.11.3"
  }
 },
 "nbformat": 4,
 "nbformat_minor": 5
}
