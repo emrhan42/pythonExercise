{
 "cells": [
  {
   "cell_type": "code",
   "execution_count": 1,
   "id": "23fb39e4-34cf-49b7-9bf7-673170d5e1ff",
   "metadata": {
    "tags": []
   },
   "outputs": [
    {
     "name": "stdout",
     "output_type": "stream",
     "text": [
      "Hello Word\n"
     ]
    }
   ],
   "source": [
    "print(\"Hello Word\")"
   ]
  },
  {
   "cell_type": "code",
   "execution_count": 2,
   "id": "42a3cd5d-686d-4f24-98ae-ce7167ba36e1",
   "metadata": {
    "tags": []
   },
   "outputs": [
    {
     "name": "stdout",
     "output_type": "stream",
     "text": [
      "Bu İkinci metin\n"
     ]
    }
   ],
   "source": [
    "print(\"Bu İkinci metin\")"
   ]
  },
  {
   "cell_type": "code",
   "execution_count": 3,
   "id": "6e921339-2d1f-42a4-a9fb-a90f527371e8",
   "metadata": {
    "tags": []
   },
   "outputs": [
    {
     "ename": "SyntaxError",
     "evalue": "invalid syntax (1637735702.py, line 1)",
     "output_type": "error",
     "traceback": [
      "\u001b[1;36m  Cell \u001b[1;32mIn[3], line 1\u001b[1;36m\u001b[0m\n\u001b[1;33m    **bu koyu metin**koyu\u001b[0m\n\u001b[1;37m    ^\u001b[0m\n\u001b[1;31mSyntaxError\u001b[0m\u001b[1;31m:\u001b[0m invalid syntax\n"
     ]
    }
   ],
   "source": [
    "**bu koyu metin**koyu"
   ]
  },
  {
   "cell_type": "markdown",
   "id": "92a3f4c4-b85a-4b37-971f-94848b228ddd",
   "metadata": {},
   "source": [
    "**bu metinde koyudur** koyu"
   ]
  },
  {
   "cell_type": "code",
   "execution_count": null,
   "id": "5cdba6c5-17ae-4cb4-9616-2ad2abd4b076",
   "metadata": {
    "tags": []
   },
   "outputs": [],
   "source": [
    "slm"
   ]
  },
  {
   "cell_type": "code",
   "execution_count": 1,
   "id": "c623391d-b50a-4f54-a797-c4675ec0c100",
   "metadata": {
    "tags": []
   },
   "outputs": [
    {
     "name": "stdout",
     "output_type": "stream",
     "text": [
      "Hello Word\n"
     ]
    }
   ],
   "source": [
    "print(\"Hello Word\")"
   ]
  }
 ],
 "metadata": {
  "kernelspec": {
   "display_name": "Python 3 (ipykernel)",
   "language": "python",
   "name": "python3"
  },
  "language_info": {
   "codemirror_mode": {
    "name": "ipython",
    "version": 3
   },
   "file_extension": ".py",
   "mimetype": "text/x-python",
   "name": "python",
   "nbconvert_exporter": "python",
   "pygments_lexer": "ipython3",
   "version": "3.11.3"
  }
 },
 "nbformat": 4,
 "nbformat_minor": 5
}
