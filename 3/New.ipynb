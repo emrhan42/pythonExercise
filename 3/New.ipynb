{
 "cells": [
  {
   "cell_type": "markdown",
   "id": "9baaa240-a5df-463d-9a6f-c32ca0865814",
   "metadata": {},
   "source": [
    "## İlk program\n"
   ]
  },
  {
   "cell_type": "markdown",
   "id": "5812758a-8fde-4053-ac53-326c23483c7c",
   "metadata": {
    "tags": []
   },
   "source": [
    "### merhaba dünya"
   ]
  },
  {
   "cell_type": "markdown",
   "id": "8ed8e384-6067-429f-aea9-bc682f54f035",
   "metadata": {
    "tags": []
   },
   "source": [
    "**Program:** Bir işlemin nasıl yapılacağını bilgisayara anlatan yönergelere"
   ]
  },
  {
   "cell_type": "code",
   "execution_count": 4,
   "id": "8e2a4c07-ba2f-4875-ad72-d4d8d363708c",
   "metadata": {
    "tags": []
   },
   "outputs": [
    {
     "name": "stdout",
     "output_type": "stream",
     "text": [
      "Hello Universe\n"
     ]
    }
   ],
   "source": [
    "print(\"Hello Universe\")"
   ]
  },
  {
   "cell_type": "code",
   "execution_count": 6,
   "id": "2268793d-3e63-4d40-bbfb-94d3a37e4763",
   "metadata": {
    "tags": []
   },
   "outputs": [
    {
     "name": "stdout",
     "output_type": "stream",
     "text": [
      "Bu benim ilk programım :) \n"
     ]
    }
   ],
   "source": [
    "print(\"Bu benim ilk programım :) \")"
   ]
  },
  {
   "cell_type": "markdown",
   "id": "d19c0bb5-156f-4e3d-886f-7d773e5eba71",
   "metadata": {},
   "source": [
    "---"
   ]
  },
  {
   "cell_type": "markdown",
   "id": "1462c04c-c95f-4f32-a4e9-a31ead510f2d",
   "metadata": {},
   "source": [
    "**Aritmetik İşlemler**\n",
    "\n",
    "* Toplama: +\n",
    "* Çıkarma: -\n",
    "* Çarpma: *\n",
    "* Bölme: /\n",
    "* Üstel: **\n",
    "* Mod: %\n",
    "* Tam Sayılı Bölme: //"
   ]
  },
  {
   "cell_type": "code",
   "execution_count": 8,
   "id": "e19878e8-6672-4f2d-8d37-899282c16b23",
   "metadata": {
    "tags": []
   },
   "outputs": [
    {
     "data": {
      "text/plain": [
       "33"
      ]
     },
     "execution_count": 8,
     "metadata": {},
     "output_type": "execute_result"
    }
   ],
   "source": [
    "25+8"
   ]
  },
  {
   "cell_type": "code",
   "execution_count": 9,
   "id": "4d66621b-8a69-401f-9719-83f2bc3a9a7b",
   "metadata": {
    "tags": []
   },
   "outputs": [
    {
     "data": {
      "text/plain": [
       "48"
      ]
     },
     "execution_count": 9,
     "metadata": {},
     "output_type": "execute_result"
    }
   ],
   "source": [
    "80-32"
   ]
  },
  {
   "cell_type": "code",
   "execution_count": 10,
   "id": "0213690d-b349-4c46-8f59-ee527b5c7434",
   "metadata": {
    "tags": []
   },
   "outputs": [
    {
     "data": {
      "text/plain": [
       "60"
      ]
     },
     "execution_count": 10,
     "metadata": {},
     "output_type": "execute_result"
    }
   ],
   "source": [
    "5*12"
   ]
  },
  {
   "cell_type": "code",
   "execution_count": 11,
   "id": "77273feb-fbee-4156-a1d0-702c1a26486e",
   "metadata": {
    "tags": []
   },
   "outputs": [
    {
     "data": {
      "text/plain": [
       "18.0"
      ]
     },
     "execution_count": 11,
     "metadata": {},
     "output_type": "execute_result"
    }
   ],
   "source": [
    "90/5"
   ]
  },
  {
   "cell_type": "code",
   "execution_count": 12,
   "id": "dab8e9a2-6473-4d5d-9df5-b6318bc5be71",
   "metadata": {
    "tags": []
   },
   "outputs": [
    {
     "data": {
      "text/plain": [
       "64"
      ]
     },
     "execution_count": 12,
     "metadata": {},
     "output_type": "execute_result"
    }
   ],
   "source": [
    "8**2"
   ]
  },
  {
   "cell_type": "code",
   "execution_count": 13,
   "id": "27e2108e-cad3-4562-839c-ecf61e87ce61",
   "metadata": {
    "tags": []
   },
   "outputs": [
    {
     "data": {
      "text/plain": [
       "125"
      ]
     },
     "execution_count": 13,
     "metadata": {},
     "output_type": "execute_result"
    }
   ],
   "source": [
    "5**3"
   ]
  },
  {
   "cell_type": "code",
   "execution_count": 14,
   "id": "166e37b6-e3ad-41cf-be3c-1067f663ef7e",
   "metadata": {
    "tags": []
   },
   "outputs": [
    {
     "data": {
      "text/plain": [
       "1"
      ]
     },
     "execution_count": 14,
     "metadata": {},
     "output_type": "execute_result"
    }
   ],
   "source": [
    "65 % 8"
   ]
  },
  {
   "cell_type": "code",
   "execution_count": 15,
   "id": "6e095d78-4733-4b92-b8e5-8d03b99972d9",
   "metadata": {
    "tags": []
   },
   "outputs": [
    {
     "data": {
      "text/plain": [
       "0"
      ]
     },
     "execution_count": 15,
     "metadata": {},
     "output_type": "execute_result"
    }
   ],
   "source": [
    "12 % 2"
   ]
  },
  {
   "cell_type": "code",
   "execution_count": 16,
   "id": "384c8eef-9a9d-464f-a56e-4da25108e8a6",
   "metadata": {
    "tags": []
   },
   "outputs": [
    {
     "data": {
      "text/plain": [
       "4.5"
      ]
     },
     "execution_count": 16,
     "metadata": {},
     "output_type": "execute_result"
    }
   ],
   "source": [
    "9/2"
   ]
  },
  {
   "cell_type": "code",
   "execution_count": 17,
   "id": "411ae06f-43bb-4b5c-8d14-a778bac3ea9c",
   "metadata": {
    "tags": []
   },
   "outputs": [
    {
     "data": {
      "text/plain": [
       "4"
      ]
     },
     "execution_count": 17,
     "metadata": {},
     "output_type": "execute_result"
    }
   ],
   "source": [
    "9 // 2"
   ]
  },
  {
   "cell_type": "markdown",
   "id": "c418a82b-ad3f-45d5-aee6-3c763c4f1512",
   "metadata": {},
   "source": [
    "---"
   ]
  },
  {
   "cell_type": "markdown",
   "id": "92da7592-2245-4b4f-8ac9-f1185d82ca17",
   "metadata": {},
   "source": [
    "**Değerler Ve Tipler**\n",
    "\n",
    "**Değerler:** Program içerisinde anlam taşıyan yapılardır. Programın hafızasında yer tutar.\n",
    "\n",
    "**Tipler:** Bu hafızanın hangi formatta olacağını söyler"
   ]
  },
  {
   "cell_type": "code",
   "execution_count": 18,
   "id": "3776daea-d228-4fa4-b0ca-49e1551e18af",
   "metadata": {
    "tags": []
   },
   "outputs": [
    {
     "data": {
      "text/plain": [
       "'Hello World'"
      ]
     },
     "execution_count": 18,
     "metadata": {},
     "output_type": "execute_result"
    }
   ],
   "source": [
    "\"Hello World\""
   ]
  },
  {
   "cell_type": "code",
   "execution_count": 19,
   "id": "8c2d827f-0450-447d-b852-2404f3460db6",
   "metadata": {
    "tags": []
   },
   "outputs": [
    {
     "data": {
      "text/plain": [
       "2"
      ]
     },
     "execution_count": 19,
     "metadata": {},
     "output_type": "execute_result"
    }
   ],
   "source": [
    "2"
   ]
  },
  {
   "cell_type": "code",
   "execution_count": 20,
   "id": "b58cb4a0-3892-4168-9131-aa950a9deb03",
   "metadata": {
    "tags": []
   },
   "outputs": [
    {
     "data": {
      "text/plain": [
       "str"
      ]
     },
     "execution_count": 20,
     "metadata": {},
     "output_type": "execute_result"
    }
   ],
   "source": [
    "type(\"Hello World\")"
   ]
  },
  {
   "cell_type": "code",
   "execution_count": 21,
   "id": "cfae1e48-4cb8-490e-8b4c-7a605509ea65",
   "metadata": {
    "tags": []
   },
   "outputs": [
    {
     "data": {
      "text/plain": [
       "str"
      ]
     },
     "execution_count": 21,
     "metadata": {},
     "output_type": "execute_result"
    }
   ],
   "source": [
    "type(\"2\")"
   ]
  },
  {
   "cell_type": "code",
   "execution_count": 22,
   "id": "58487592-4598-4a16-adc0-1a69715f9a71",
   "metadata": {
    "tags": []
   },
   "outputs": [
    {
     "data": {
      "text/plain": [
       "int"
      ]
     },
     "execution_count": 22,
     "metadata": {},
     "output_type": "execute_result"
    }
   ],
   "source": [
    "type(2)"
   ]
  },
  {
   "cell_type": "code",
   "execution_count": 23,
   "id": "cfd5257d-2aab-439f-9575-89aee2c8b37c",
   "metadata": {
    "tags": []
   },
   "outputs": [
    {
     "name": "stdout",
     "output_type": "stream",
     "text": [
      "<class 'float'>\n"
     ]
    }
   ],
   "source": [
    "print(type(4.5))"
   ]
  },
  {
   "cell_type": "code",
   "execution_count": 24,
   "id": "dc3180b5-f729-4fd9-80db-fa14720229be",
   "metadata": {
    "tags": []
   },
   "outputs": [
    {
     "data": {
      "text/plain": [
       "float"
      ]
     },
     "execution_count": 24,
     "metadata": {},
     "output_type": "execute_result"
    }
   ],
   "source": [
    "type(4.5)"
   ]
  },
  {
   "cell_type": "code",
   "execution_count": null,
   "id": "b1ea2b07-c6e9-4573-8220-0b049ab70172",
   "metadata": {},
   "outputs": [],
   "source": []
  }
 ],
 "metadata": {
  "kernelspec": {
   "display_name": "Python 3 (ipykernel)",
   "language": "python",
   "name": "python3"
  },
  "language_info": {
   "codemirror_mode": {
    "name": "ipython",
    "version": 3
   },
   "file_extension": ".py",
   "mimetype": "text/x-python",
   "name": "python",
   "nbconvert_exporter": "python",
   "pygments_lexer": "ipython3",
   "version": "3.11.4"
  }
 },
 "nbformat": 4,
 "nbformat_minor": 5
}
