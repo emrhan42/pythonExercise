{
 "cells": [
  {
   "cell_type": "markdown",
   "id": "b20d5b91-ef3c-4a64-9817-bc94cd310d81",
   "metadata": {},
   "source": [
    "## Proje 1 - Fonksiyonlar"
   ]
  },
  {
   "cell_type": "markdown",
   "id": "b3bfd9b9-b107-4a8a-9644-c6522793bd3a",
   "metadata": {},
   "source": [
    "### Kaplumbağa Mödülü"
   ]
  },
  {
   "cell_type": "markdown",
   "id": "7eeffbbf-e0a5-4c3e-b953-18ca357e5358",
   "metadata": {},
   "source": [
    "Python içinde hazır olarak gelir\n"
   ]
  },
  {
   "cell_type": "code",
   "execution_count": 2,
   "id": "48dff28a-7503-4db1-aa5a-b65ce81ca427",
   "metadata": {
    "tags": []
   },
   "outputs": [],
   "source": [
    "# turtle modülünü içeri alalım\n",
    "\n",
    "import turtle"
   ]
  },
  {
   "cell_type": "code",
   "execution_count": 3,
   "id": "a8233bb5-3edc-4df9-b990-5647691bdaac",
   "metadata": {},
   "outputs": [],
   "source": [
    "tospa = turtle.Turtle()"
   ]
  },
  {
   "cell_type": "code",
   "execution_count": 4,
   "id": "ca37aca8-3e22-4159-aa28-ebec93bd32c0",
   "metadata": {
    "tags": []
   },
   "outputs": [],
   "source": [
    "turtle.mainloop()"
   ]
  },
  {
   "cell_type": "code",
   "execution_count": 5,
   "id": "97365a0d-7c43-46dd-bee0-d217843469d0",
   "metadata": {
    "tags": []
   },
   "outputs": [],
   "source": [
    "import turtle\n",
    "\n",
    "def kaplumbaga_yarat():\n",
    "    \n",
    "    # Turtle nesnesi yarat\n",
    "    tospik = turtle.Turtle()\n",
    "    \n",
    "    print(tospik)\n",
    "    \n",
    "    return tospik\n"
   ]
  },
  {
   "cell_type": "code",
   "execution_count": 7,
   "id": "2c7d1610-dca5-44ff-92f4-b30355faf72e",
   "metadata": {
    "tags": []
   },
   "outputs": [
    {
     "name": "stdout",
     "output_type": "stream",
     "text": [
      "<turtle.Turtle object at 0x0000025F11FFB690>\n"
     ]
    }
   ],
   "source": [
    "tospik = kaplumbaga_yarat()\n",
    "turtle.mainloop()"
   ]
  },
  {
   "cell_type": "markdown",
   "id": "566b256a-7f16-44b5-b9a4-0f8f45c57ff5",
   "metadata": {},
   "source": [
    "`turtle.mainloop`fonksiyonu açılan pencereye kullanıcının her hangi bir işlem yapana kadar beklemesini söyler.Bu işlem ekranı kapatmaktır\n",
    "\n",
    "**Önemli** \n",
    "* Bazen Kaplumbağa Penceresi arkada açılır. Görmek için tek tek pencelere bakmanız gerekebilir.\n",
    "* Eğer düzenli kapatılmamışsa, kernel'i restart edip, tekrar kapatıp ikinci sefer açmanız gerekebilir.\n",
    "* Kernel Restart'ı için:\n",
    "    * Araç çubuğundaki 'yenile' ikonunu kullanabilirsiniz.\n",
    "    * Veya Menü'den Kernel -> Restart Kernel\n",
    "* Kernel Restart ettikten sonra kod hücrelerini tekrar çalıştırmanız lazım, çünkü eski Kernel artık gitmiştir.\n",
    "* `mainloop()` fonksiyonu her zaman son satır olmalı. Yani aşağıda, işlemler yapacaksanız, yukarıdaki mainloop() fonksiyonunu yorum satırı yapın. Aşağıda en altta tekrar yazın. Program mainloop()'tan sonra hiçbir işlem yapmamalı yani."
   ]
  },
  {
   "cell_type": "markdown",
   "id": "3d513556-5360-4f4f-903c-54da136d33b9",
   "metadata": {},
   "source": [
    "**Method == Fonksiyon**"
   ]
  },
  {
   "cell_type": "markdown",
   "id": "280e260f-cedd-4b0c-89b5-ba2f0d958a92",
   "metadata": {},
   "source": [
    "**Kaplumbağa Metodları**\n",
    "\n",
    "* **turtle.fd(n)** -> İleri hareket ettirir , n pixel kadar\n",
    "* **turtle.bk(n)** -> Geri hareket ettirir , n pixel kadar\n",
    "* **turtle.lt(d)** -> Sola dön , d açısı kadar\n",
    "* **turtle.rt(d)** -> Sağa dön , d açısı kadar\n"
   ]
  },
  {
   "cell_type": "markdown",
   "id": "4b3a42a9-4203-4d6d-9b40-8aac8de04528",
   "metadata": {},
   "source": [
    "Örneğin 90 derecelik bir açı çizmek istiyoruz\n",
    "\n",
    "* turtle.fd(100)\n",
    "* turtle.lt(90)\n",
    "* turtle.fd(100)\n"
   ]
  },
  {
   "cell_type": "code",
   "execution_count": 8,
   "id": "721a44b1-a8ee-4344-b86f-2b3bf6634f9f",
   "metadata": {
    "tags": []
   },
   "outputs": [
    {
     "name": "stdout",
     "output_type": "stream",
     "text": [
      "<turtle.Turtle object at 0x000002948504E6D0>\n"
     ]
    }
   ],
   "source": [
    "# Bir kaplumbağa al\n",
    "\n",
    "tospik = kaplumbaga_yarat()"
   ]
  },
  {
   "cell_type": "code",
   "execution_count": 9,
   "id": "220d75eb-af66-43b5-baef-60077578a97b",
   "metadata": {
    "tags": []
   },
   "outputs": [],
   "source": [
    "#Kaplumbağayı haraket ettir\n",
    "\n",
    "tospik.fd(100)\n",
    "tospik.lt(90)\n",
    "tospik.fd(100)\n"
   ]
  },
  {
   "cell_type": "code",
   "execution_count": null,
   "id": "ae4b861a-e4d4-49c2-b6bd-a29c0de9d4d3",
   "metadata": {
    "tags": []
   },
   "outputs": [],
   "source": [
    "# mainloop\n",
    "# Son satır olmalı -> mainloop\n",
    "\n",
    "turtle.mainloop()"
   ]
  },
  {
   "cell_type": "markdown",
   "id": "6056a2ce-5830-43ca-9f40-c1e3e7ac9368",
   "metadata": {},
   "source": [
    "**Kara Çizelim:**\n",
    "\n",
    "* tospik.fd(100)\n",
    "* tospik.lt(90)\n",
    "---\n",
    "\n",
    "* tospik.fd(100)\n",
    "* tospik.lt(90)\n",
    "---\n",
    "\n",
    "* tospik.fd(100)\n",
    "* tospik.lt(90)\n",
    "---\n",
    "\n",
    "* tospik.fd(100)\n",
    "* tospik.lt(90)\n",
    "---\n"
   ]
  },
  {
   "cell_type": "code",
   "execution_count": 14,
   "id": "db3b2054-33b6-4503-910d-f4778aadf42e",
   "metadata": {
    "tags": []
   },
   "outputs": [],
   "source": [
    "# trutle nesne yarat\n",
    "\n",
    "import turtle\n",
    "\n",
    "tospik = turtle.Turtle()"
   ]
  },
  {
   "cell_type": "code",
   "execution_count": 15,
   "id": "3ff74be4-7afa-47c5-ad95-5d94b62974f3",
   "metadata": {
    "tags": []
   },
   "outputs": [],
   "source": [
    "# Kare çiz\n",
    "\n",
    "# Kenar 1\n",
    "\n",
    "tospik.fd(100)\n",
    "tospik.lt(90)\n",
    "\n",
    "# Kenar 2\n",
    "\n",
    "tospik.fd(100)\n",
    "tospik.lt(90)\n",
    "\n",
    "# Kenar 3\n",
    "\n",
    "tospik.fd(100)\n",
    "tospik.lt(90)\n",
    "\n",
    "# Kenar 4\n",
    "\n",
    "tospik.fd(100)\n",
    "tospik.lt(90)\n"
   ]
  },
  {
   "cell_type": "code",
   "execution_count": 16,
   "id": "feb784b1-e27a-4d7c-a57f-bcbe997c456f",
   "metadata": {
    "tags": []
   },
   "outputs": [],
   "source": [
    "# mainloop\n",
    "# Son satır olmalı -> mainloop\n",
    "\n",
    "turtle.mainloop()"
   ]
  },
  {
   "cell_type": "markdown",
   "id": "b62bac4e-3f02-4c6a-91a8-8499e537ab14",
   "metadata": {},
   "source": [
    "Yukardaki işlemi bir döngü yardımı ile kolayca yapabiliriz"
   ]
  },
  {
   "cell_type": "code",
   "execution_count": 29,
   "id": "39b1ee93-3a1c-4887-88d4-b6ea5dfe351f",
   "metadata": {
    "tags": []
   },
   "outputs": [],
   "source": [
    "for i in range(4):\n",
    "    tospik.fd(100)\n",
    "    tospik.lt(90)\n",
    "    \n",
    "turtle.mainloop()"
   ]
  },
  {
   "cell_type": "code",
   "execution_count": 31,
   "id": "d539c831-63de-4029-bcdf-0fad626e495d",
   "metadata": {
    "tags": []
   },
   "outputs": [
    {
     "name": "stdout",
     "output_type": "stream",
     "text": [
      "Hello\n",
      "Hello\n",
      "Hello\n",
      "Hello\n"
     ]
    }
   ],
   "source": [
    "# Basit bir for döngüsü örneği:\n",
    "\n",
    "for i in range(4):\n",
    "    print(\"Hello\")"
   ]
  },
  {
   "cell_type": "markdown",
   "id": "0a8fe41c-6cf8-4edc-b278-ee5eb1d1bae1",
   "metadata": {
    "tags": []
   },
   "source": [
    "---"
   ]
  },
  {
   "cell_type": "markdown",
   "id": "9be34d64-6b89-47aa-8db9-b06c6f7d4b65",
   "metadata": {},
   "source": [
    "**Alıştırma 1**\n",
    "\n",
    "İsmi **kare** olan bir fonksiyon yazın.\n",
    "\n",
    "Bu fonksiyon kaplumbağa tipinde t adında bir fonksiyon alSIN\n",
    "\n",
    "Ek olarak kaç adım yürüyeceğini de parametre olarak alsın\n",
    "\n",
    "Bu kaplumbağayı kullanarak bir fonksiyon çizsin\n",
    "\n"
   ]
  },
  {
   "cell_type": "code",
   "execution_count": 3,
   "id": "763e7e95-0314-426a-9ae4-96f761ab0a23",
   "metadata": {
    "tags": []
   },
   "outputs": [],
   "source": [
    "import turtle"
   ]
  },
  {
   "cell_type": "code",
   "execution_count": 7,
   "id": "98ae287d-6b55-44c5-85df-25902baced24",
   "metadata": {
    "tags": []
   },
   "outputs": [],
   "source": [
    "# Çözüm 1\n",
    "\n",
    "# Fonksiyonumuzu tanımlayalım\n",
    "\n",
    "def kare( t,uzunluk):\n",
    "    \"\"\"\n",
    "       Kaplumbağa ile kare çizen fonksiyon\n",
    "       Parametreler:\n",
    "           \n",
    "           * t: tipinde nesne\n",
    "           * uzunluk: int tipinde yürüme miktarı (pixel)\n",
    "    \n",
    "    \"\"\"\n",
    "    \n",
    "    \n",
    "    # Döngü ile kare çizdir\n",
    "    for i in range(4):\n",
    "        t.fd(uzunluk)\n",
    "        t.lt(90)\n",
    "    \n",
    "    "
   ]
  },
  {
   "cell_type": "code",
   "execution_count": 4,
   "id": "97095582-90a8-4d03-aa37-9f760b74c580",
   "metadata": {
    "tags": []
   },
   "outputs": [],
   "source": [
    "# Önce tospik'i yaratalım\n",
    "\n",
    "\n",
    "tospik = turtle.Turtle()"
   ]
  },
  {
   "cell_type": "code",
   "execution_count": 8,
   "id": "86416a20-92fc-4134-9778-4e2102ce183b",
   "metadata": {
    "tags": []
   },
   "outputs": [],
   "source": [
    "# Şimdi kare fonksiyonu çağralım\n",
    "\n",
    "# 100 Pixel ile çağralım\n",
    "kare(tospik,100)"
   ]
  },
  {
   "cell_type": "code",
   "execution_count": 9,
   "id": "b002c3d6-3ee8-41aa-b8ef-5aef0153800a",
   "metadata": {
    "tags": []
   },
   "outputs": [],
   "source": [
    "# Sonra 200 Pixelle çağralım\n",
    "\n",
    "kare(tospik,200)"
   ]
  },
  {
   "cell_type": "code",
   "execution_count": 10,
   "id": "4ae188d2-4c4b-4add-88a1-4901eb88be8e",
   "metadata": {
    "tags": []
   },
   "outputs": [],
   "source": [
    "# Son olarak 300 Pixelle çağralım\n",
    "\n",
    "kare(tospik,300)"
   ]
  },
  {
   "cell_type": "code",
   "execution_count": 14,
   "id": "1f1b989f-db32-429d-9e6d-231e366fed75",
   "metadata": {
    "tags": []
   },
   "outputs": [],
   "source": [
    "# Şimdi araları dolduralım\n",
    "# 300-100 = 200\n",
    "# On seferde doldurmak için 200 / 10 = 20\n",
    "\n",
    "for i in range(10):\n",
    "    kare(tospik, 100+ i * 20 )"
   ]
  },
  {
   "cell_type": "code",
   "execution_count": 15,
   "id": "16ba9d54-1472-4d42-9147-c675f6f3031b",
   "metadata": {
    "tags": []
   },
   "outputs": [],
   "source": [
    "# Tospik temizlemek için\n",
    "\n",
    "tospik.clear()"
   ]
  },
  {
   "cell_type": "code",
   "execution_count": 16,
   "id": "e3c59805-a61e-4d57-9daf-e89a0aebffb2",
   "metadata": {
    "tags": []
   },
   "outputs": [],
   "source": [
    "turtle.mainloop()"
   ]
  },
  {
   "cell_type": "markdown",
   "id": "82284e6b-2ff1-4ac7-af17-fb070d5f9722",
   "metadata": {},
   "source": [
    "---"
   ]
  },
  {
   "cell_type": "markdown",
   "id": "b7806473-f028-48a0-8182-75d9f7650b76",
   "metadata": {},
   "source": [
    "### Alıştırma 2"
   ]
  },
  {
   "cell_type": "markdown",
   "id": "d8656a82-4d83-4a82-a52b-4c7552f263bd",
   "metadata": {},
   "source": [
    "Şimdi poligon çizen bir fonksiyon yaratalım \n",
    "\n",
    "Fonksiyonun parametreleri, kaplumbağa mesafe ve kenar sayısı"
   ]
  },
  {
   "cell_type": "code",
   "execution_count": 4,
   "id": "3970fa6e-07c7-42f8-a55f-5f58ec887543",
   "metadata": {
    "tags": []
   },
   "outputs": [],
   "source": [
    "#Çözüm 2\n",
    "\n",
    "# Poligon fonksiyonunu tamamlıyalım\n",
    "def poligon(t, uzunluk , n):\n",
    "    \"\"\"\n",
    "    Kaplumbağa ile poligon çizen fonksiyon\n",
    "    Parametreler:\n",
    "                * t: turtle tipinde nesne\n",
    "                * uzunluk: int tipinde yürüme miktarı, Pixel\n",
    "                * n: int tipinde kenar sayısı\n",
    "    \n",
    "    \"\"\"\n",
    "    for i in range(n):\n",
    "        t.fd(uzunluk)\n",
    "        t.lt(90)"
   ]
  },
  {
   "cell_type": "code",
   "execution_count": 19,
   "id": "8c5900a4-4dbc-4db9-a6c2-c36555ec89a5",
   "metadata": {
    "tags": []
   },
   "outputs": [],
   "source": [
    "# Turtle modülünü import rt\n",
    "\n",
    "import turtle"
   ]
  },
  {
   "cell_type": "code",
   "execution_count": 20,
   "id": "38a35463-109f-4593-b02f-3fdfd19c5647",
   "metadata": {
    "tags": []
   },
   "outputs": [],
   "source": [
    "# Bir Kaplumbağa yarat\n",
    "t= turtle.Turtle()"
   ]
  },
  {
   "cell_type": "code",
   "execution_count": 6,
   "id": "a05034ec-f1b5-4cdb-a251-d421a9d7d9ff",
   "metadata": {
    "tags": []
   },
   "outputs": [],
   "source": [
    "#Poligon fonksiyonu çağır\n",
    "\n",
    "poligon(t,100,6)"
   ]
  },
  {
   "cell_type": "code",
   "execution_count": 7,
   "id": "6f4f8539-0769-4411-94e2-84d231a59719",
   "metadata": {
    "tags": []
   },
   "outputs": [],
   "source": [
    "t.clear()"
   ]
  },
  {
   "cell_type": "markdown",
   "id": "ad1bdfd3-9c9d-496d-a706-3d46b4327c76",
   "metadata": {},
   "source": [
    "**Dönüş Derecesi = 360 / kenar sayısı**"
   ]
  },
  {
   "cell_type": "code",
   "execution_count": 35,
   "id": "3d8300f9-4e35-4dac-ae27-804b7a1e547e",
   "metadata": {
    "tags": []
   },
   "outputs": [],
   "source": [
    "# Poligon fonksiyonunu tamamlıyalım\n",
    "def poligon(t, uzunluk , n):\n",
    "    \"\"\"\n",
    "    Kaplumbağa ile poligon çizen fonksiyon\n",
    "    Parametreler:\n",
    "                * t: turtle tipinde nesne\n",
    "                * uzunluk: int tipinde yürüme miktarı, Pixel\n",
    "                * n: int tipinde kenar sayısı\n",
    "    \n",
    "    \"\"\"\n",
    "    \n",
    "    #Dönüş derecesi hesapla\n",
    "    aci = 360 / n\n",
    "    \n",
    "    for i in range(n):\n",
    "        t.fd(uzunluk)\n",
    "        t.lt(aci)"
   ]
  },
  {
   "cell_type": "code",
   "execution_count": 36,
   "id": "0ba91249-8276-4f32-a78d-a5251a5f707c",
   "metadata": {
    "tags": []
   },
   "outputs": [],
   "source": [
    "#poligonu çağır\n",
    "poligon(t,100,6)"
   ]
  },
  {
   "cell_type": "code",
   "execution_count": 7,
   "id": "11987209-2f4c-4b99-b6b6-70ede24e92a6",
   "metadata": {
    "tags": []
   },
   "outputs": [],
   "source": [
    "#poligonu çağır\n",
    "poligon(t,200,6)"
   ]
  },
  {
   "cell_type": "code",
   "execution_count": 11,
   "id": "67e358ce-de2c-4889-ad9c-636a56541cdb",
   "metadata": {
    "tags": []
   },
   "outputs": [],
   "source": [
    "# Ekranı boşalt\n",
    "t.clear()"
   ]
  },
  {
   "cell_type": "code",
   "execution_count": 9,
   "id": "897d5789-f378-4ded-ab58-cb20b607c93f",
   "metadata": {
    "tags": []
   },
   "outputs": [],
   "source": [
    "#poligonu çağır\n",
    "poligon(t,100,10)"
   ]
  },
  {
   "cell_type": "code",
   "execution_count": 12,
   "id": "44151e25-905a-469e-a3f2-6fb764933728",
   "metadata": {
    "tags": []
   },
   "outputs": [],
   "source": [
    "# Ekranı boşalt\n",
    "turtle.resetscreen()"
   ]
  },
  {
   "cell_type": "markdown",
   "id": "2cdfc541-324f-4c57-99b9-c14b1385a556",
   "metadata": {},
   "source": [
    "Fonksiyonları **isimlendirilmiş parametreler** ile çağırabilirsiniz"
   ]
  },
  {
   "cell_type": "code",
   "execution_count": 15,
   "id": "1f277c1b-f153-4b5a-865c-d32a10e7c008",
   "metadata": {
    "tags": []
   },
   "outputs": [],
   "source": [
    "#POligon çağır\n",
    "poligon(t,uzunluk=100,n=12)"
   ]
  },
  {
   "cell_type": "code",
   "execution_count": 14,
   "id": "48c2eac9-4850-4535-9b7d-5310896e81ad",
   "metadata": {
    "tags": []
   },
   "outputs": [],
   "source": [
    "turtle.resetscreen()"
   ]
  },
  {
   "cell_type": "code",
   "execution_count": 17,
   "id": "101db426-4850-4081-bd19-7320b7127678",
   "metadata": {
    "tags": []
   },
   "outputs": [],
   "source": [
    "#POligon çağır\n",
    "poligon(t=t,uzunluk=200,n=12)"
   ]
  },
  {
   "cell_type": "code",
   "execution_count": 18,
   "id": "df957655-759f-4fa7-bf37-0f95578d2ce5",
   "metadata": {
    "tags": []
   },
   "outputs": [],
   "source": [
    "t.clear()"
   ]
  },
  {
   "cell_type": "markdown",
   "id": "57fc9064-b27b-4bec-9f75-4668b6502b3d",
   "metadata": {},
   "source": [
    "**İsimlendirilmiş parametreler** -> `keywords arguments`"
   ]
  },
  {
   "cell_type": "markdown",
   "id": "7a68140d-72d0-47d4-a9c5-f2fae9ca16d4",
   "metadata": {},
   "source": [
    "---"
   ]
  },
  {
   "cell_type": "markdown",
   "id": "3ab895c9-831c-4463-9db8-1449a1db1140",
   "metadata": {},
   "source": [
    "### Alıştırma 3"
   ]
  },
  {
   "cell_type": "markdown",
   "id": "875f5f1b-68be-4c39-b9b3-1ff569187bfc",
   "metadata": {},
   "source": [
    "Çember çizen bir fonksiyon yazalım\n",
    "\n",
    "Bu fonksiyonun parametreleri:Kaplumbağa ve Yarı çap\n"
   ]
  },
  {
   "cell_type": "markdown",
   "id": "2c1a468d-2aaf-4e7f-b288-d0598c4649ec",
   "metadata": {
    "tags": []
   },
   "source": [
    "Bu fonksiyon poligon fonksiyonunu çağırcak ve çizimi ona yaptırcak\n",
    "\n",
    "Kendisi bir çizim yapmayacak\n",
    "\n",
    "50 Kenarlı poligon çizelim"
   ]
  },
  {
   "cell_type": "code",
   "execution_count": 1,
   "id": "e3a7dc28-e4c9-46e3-b044-983a63c4b5f9",
   "metadata": {
    "tags": []
   },
   "outputs": [],
   "source": [
    "import math"
   ]
  },
  {
   "cell_type": "code",
   "execution_count": 23,
   "id": "297bb8e9-780b-4296-b1a9-24b34909b7f1",
   "metadata": {
    "tags": []
   },
   "outputs": [],
   "source": [
    "def çember(t,r):\n",
    "    \"\"\"\n",
    "       Çember çizen fonksiyon\n",
    "       Parametreleri:\n",
    "                    * t: turtle tipinde\n",
    "                    * r: int tipinde yarıçapı\n",
    "       Dönüş: poligon fonksiyonu çağrıp ekrana çember çizer \n",
    "       \n",
    "    \"\"\"\n",
    "    \n",
    "    cevre= 2 * math.pi * r\n",
    "    n = 50\n",
    "    uzunluk = cevre / n\n",
    "    poligon(t,n=n,uzunluk=uzunluk)\n",
    "    \n",
    "    "
   ]
  },
  {
   "cell_type": "code",
   "execution_count": 24,
   "id": "7b70a356-c3ca-4693-8e86-2183cbfa84b7",
   "metadata": {
    "tags": []
   },
   "outputs": [],
   "source": [
    "# Çemberi çağır\n",
    "\n",
    "çember(t,100)"
   ]
  },
  {
   "cell_type": "markdown",
   "id": "46ae171c-64a6-447c-9d59-415ed166cbbf",
   "metadata": {},
   "source": [
    "Bu çözümüm sorunu n 'in sabit olması"
   ]
  },
  {
   "cell_type": "markdown",
   "id": "7fe029be-929f-4263-8c20-8ea9ec69e595",
   "metadata": {},
   "source": [
    "Kenar sayısı (n) yarıçapa göre hesaplıyalım"
   ]
  },
  {
   "cell_type": "code",
   "execution_count": 10,
   "id": "f0280fc8-b415-4e86-bfb7-34abe132200e",
   "metadata": {
    "tags": []
   },
   "outputs": [],
   "source": [
    "import math"
   ]
  },
  {
   "cell_type": "code",
   "execution_count": 32,
   "id": "f3e17d3f-43c0-4e1f-80ba-ea21013150fb",
   "metadata": {
    "tags": []
   },
   "outputs": [],
   "source": [
    "\n",
    "def cember(t,r):\n",
    "    \"\"\"\n",
    "       Çember çizen fonksiyon\n",
    "       Parametreleri:\n",
    "                    * t: turtle tipinde\n",
    "                    * r: int tipinde yarıçapı\n",
    "       Dönüş: poligon fonksiyonu çağrıp ekrana çember çizer \n",
    "       \n",
    "    \"\"\"\n",
    "    \n",
    "    cevre= 2 * math.pi * r\n",
    "    \n",
    "    n = int(cevre / 3)\n",
    "    \n",
    "    uzunluk = cevre / n\n",
    "     \n",
    "    poligon(t,n=n,uzunluk=uzunluk)\n",
    "    "
   ]
  },
  {
   "cell_type": "code",
   "execution_count": 38,
   "id": "ba861111-137d-41c0-8aaa-19b66c0968eb",
   "metadata": {
    "tags": []
   },
   "outputs": [],
   "source": [
    "# Şimdi yeniden çağralım\n",
    "\n",
    "cember(t,100)"
   ]
  },
  {
   "cell_type": "code",
   "execution_count": 37,
   "id": "f75db072-47fe-452e-b6f4-ac018ece9b9a",
   "metadata": {
    "tags": []
   },
   "outputs": [],
   "source": [
    "t.clear()"
   ]
  },
  {
   "cell_type": "code",
   "execution_count": null,
   "id": "c1175786-959e-4332-8d74-acce3bce1fd6",
   "metadata": {},
   "outputs": [],
   "source": []
  }
 ],
 "metadata": {
  "kernelspec": {
   "display_name": "Python 3 (ipykernel)",
   "language": "python",
   "name": "python3"
  },
  "language_info": {
   "codemirror_mode": {
    "name": "ipython",
    "version": 3
   },
   "file_extension": ".py",
   "mimetype": "text/x-python",
   "name": "python",
   "nbconvert_exporter": "python",
   "pygments_lexer": "ipython3",
   "version": "3.11.3"
  }
 },
 "nbformat": 4,
 "nbformat_minor": 5
}
